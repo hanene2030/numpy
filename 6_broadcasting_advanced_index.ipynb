{
  "nbformat": 4,
  "nbformat_minor": 0,
  "metadata": {
    "colab": {
      "name": "6-broadcasting-advanced-index.ipynb",
      "provenance": [],
      "collapsed_sections": [],
      "authorship_tag": "ABX9TyNEo9JwukqC9Sv4CHAWkNSu",
      "include_colab_link": true
    },
    "kernelspec": {
      "name": "python3",
      "display_name": "Python 3"
    },
    "language_info": {
      "name": "python"
    }
  },
  "cells": [
    {
      "cell_type": "markdown",
      "metadata": {
        "id": "view-in-github",
        "colab_type": "text"
      },
      "source": [
        "<a href=\"https://colab.research.google.com/github/hanene2030/numpy/blob/main/6_broadcasting_advanced_index.ipynb\" target=\"_parent\"><img src=\"https://colab.research.google.com/assets/colab-badge.svg\" alt=\"Open In Colab\"/></a>"
      ]
    },
    {
      "cell_type": "markdown",
      "source": [
        "# Brodcastiong & advanced index"
      ],
      "metadata": {
        "id": "HotcWEd-ij6n"
      }
    },
    {
      "cell_type": "markdown",
      "source": [
        "## Basic broadcasting\n",
        "Broadcasting is what happens if you try to do an operation seemingly  incompatible dimensions, but numpy finds a way to handle it under the hood."
      ],
      "metadata": {
        "id": "ljh8tSEFip8q"
      }
    },
    {
      "cell_type": "code",
      "source": [
        "import numpy as np\n",
        "import matplotlib.pyplot as plt"
      ],
      "metadata": {
        "id": "gsnL2B3li0Yf"
      },
      "execution_count": null,
      "outputs": []
    },
    {
      "cell_type": "code",
      "source": [
        "#Add constants to vectors\n",
        "x_values = np.linspace(-1,1, 1000)\n",
        "y_values1 = x_values ** 3 # to the third power\n",
        "y_values2 = x_values ** 3 + 0.2\n",
        "plt.plot( x_values, y_values1,   x_values , y_values2, linestyle=\"--\")\n",
        "plt.grid(True);\n"
      ],
      "metadata": {
        "colab": {
          "base_uri": "https://localhost:8080/",
          "height": 265
        },
        "id": "jp-e_oMqioIQ",
        "outputId": "518060ad-5b7a-4485-b8a3-30374cc970fa"
      },
      "execution_count": null,
      "outputs": [
        {
          "output_type": "display_data",
          "data": {
            "text/plain": [
              "<Figure size 432x288 with 1 Axes>"
            ],
            "image/png": "[encoded data removed]"
          },
          "metadata": {
            "needs_background": "light"
          }
        }
      ]
    },
    {
      "cell_type": "code",
      "execution_count": null,
      "metadata": {
        "colab": {
          "base_uri": "https://localhost:8080/"
        },
        "id": "RX5Zn7swhMuh",
        "outputId": "73e3a8b1-ab1a-4fa6-9ad7-4f239be4ffe4"
      },
      "outputs": [
        {
          "output_type": "execute_result",
          "data": {
            "text/plain": [
              "array([[7., 7., 7., 7., 7.],\n",
              "       [7., 7., 7., 7., 7.],\n",
              "       [7., 7., 7., 7., 7.],\n",
              "       [7., 7., 7., 7., 7.],\n",
              "       [7., 7., 7., 7., 7.]])"
            ]
          },
          "metadata": {},
          "execution_count": 3
        }
      ],
      "source": [
        "#Make 5*5 matrix consiting of sevens\n",
        "matrix_of_ones = np.ones((5,5))\n",
        "matrix_of_sevens = 7 * matrix_of_ones\n",
        "matrix_of_sevens"
      ]
    },
    {
      "cell_type": "code",
      "source": [
        "# Matrix + vector often not possible\n",
        "#matrix_of_sevens + np.arange(10) ==>ERROR"
      ],
      "metadata": {
        "id": "ILUUZO0NluvK"
      },
      "execution_count": null,
      "outputs": []
    },
    {
      "cell_type": "code",
      "source": [
        "matrix_of_sevens + np.arange(5)"
      ],
      "metadata": {
        "colab": {
          "base_uri": "https://localhost:8080/"
        },
        "id": "vHpEpcBCl4sX",
        "outputId": "dfbd19ab-a4d4-40ad-f507-69ec7479acf9"
      },
      "execution_count": null,
      "outputs": [
        {
          "output_type": "execute_result",
          "data": {
            "text/plain": [
              "array([[ 7.,  8.,  9., 10., 11.],\n",
              "       [ 7.,  8.,  9., 10., 11.],\n",
              "       [ 7.,  8.,  9., 10., 11.],\n",
              "       [ 7.,  8.,  9., 10., 11.],\n",
              "       [ 7.,  8.,  9., 10., 11.]])"
            ]
          },
          "metadata": {},
          "execution_count": 5
        }
      ]
    },
    {
      "cell_type": "code",
      "source": [
        "#When can we boradcast\n",
        "#Which direction will the boradcasting take place"
      ],
      "metadata": {
        "id": "_RyMztcml7NY"
      },
      "execution_count": null,
      "outputs": []
    },
    {
      "cell_type": "markdown",
      "source": [
        "## Boradcasting rules"
      ],
      "metadata": {
        "id": "nyAtHbObmJ3E"
      }
    },
    {
      "cell_type": "code",
      "source": [
        "matrix = np.zeros((3,7))#(3,7)\n",
        "vector = np.arange(1, 8)#(7)\n",
        "matrix, vector"
      ],
      "metadata": {
        "colab": {
          "base_uri": "https://localhost:8080/"
        },
        "id": "sgH4XOH4mMEh",
        "outputId": "04a439a9-8c27-4ff3-ca43-057b0ab89821"
      },
      "execution_count": null,
      "outputs": [
        {
          "output_type": "execute_result",
          "data": {
            "text/plain": [
              "(array([[0., 0., 0., 0., 0., 0., 0.],\n",
              "        [0., 0., 0., 0., 0., 0., 0.],\n",
              "        [0., 0., 0., 0., 0., 0., 0.]]), array([1, 2, 3, 4, 5, 6, 7]))"
            ]
          },
          "metadata": {},
          "execution_count": 7
        }
      ]
    },
    {
      "cell_type": "code",
      "source": [
        " #Rules\n",
        " #=>Padding : adding 1 to left of the shape of the smaller ndarray  =>(1, 7)\n",
        " #=>Comparision: each pair of entries are equal or one of them are ones"
      ],
      "metadata": {
        "id": "KZU5nLWMmb8g"
      },
      "execution_count": null,
      "outputs": []
    },
    {
      "cell_type": "code",
      "source": [
        "matrix + vector"
      ],
      "metadata": {
        "colab": {
          "base_uri": "https://localhost:8080/"
        },
        "id": "l96iRWpIpeTP",
        "outputId": "79fe44ba-4f7a-415a-8475-3ca3cb71df03"
      },
      "execution_count": null,
      "outputs": [
        {
          "output_type": "execute_result",
          "data": {
            "text/plain": [
              "array([[1., 2., 3., 4., 5., 6., 7.],\n",
              "       [1., 2., 3., 4., 5., 6., 7.],\n",
              "       [1., 2., 3., 4., 5., 6., 7.]])"
            ]
          },
          "metadata": {},
          "execution_count": 9
        }
      ]
    },
    {
      "cell_type": "code",
      "source": [
        "matrix = np.random.random((7,3))\n",
        "matrix"
      ],
      "metadata": {
        "colab": {
          "base_uri": "https://localhost:8080/"
        },
        "id": "yMdJaWvupi7r",
        "outputId": "cee79831-3144-4200-819c-483f3ec0336d"
      },
      "execution_count": null,
      "outputs": [
        {
          "output_type": "execute_result",
          "data": {
            "text/plain": [
              "array([[0.50175739, 0.7763192 , 0.15991895],\n",
              "       [0.85343337, 0.40307583, 0.14548511],\n",
              "       [0.34317423, 0.87510068, 0.86323144],\n",
              "       [0.23281962, 0.69832606, 0.118324  ],\n",
              "       [0.11048129, 0.31637007, 0.62866888],\n",
              "       [0.0167556 , 0.7366546 , 0.70315635],\n",
              "       [0.23041214, 0.814833  , 0.04199281]])"
            ]
          },
          "metadata": {},
          "execution_count": 10
        }
      ]
    },
    {
      "cell_type": "code",
      "source": [
        "vector = np.arange(1,8)\n",
        "vector"
      ],
      "metadata": {
        "colab": {
          "base_uri": "https://localhost:8080/"
        },
        "id": "WxELJHYPpyUu",
        "outputId": "8fe66833-ae24-4b7f-fc0d-97dead27298b"
      },
      "execution_count": null,
      "outputs": [
        {
          "output_type": "execute_result",
          "data": {
            "text/plain": [
              "array([1, 2, 3, 4, 5, 6, 7])"
            ]
          },
          "metadata": {},
          "execution_count": 11
        }
      ]
    },
    {
      "cell_type": "code",
      "source": [
        "vector = vector[:,np.newaxis]\n",
        "vector2 = vector[np.newaxis,:]\n",
        "vector.shape , vector2.shape"
      ],
      "metadata": {
        "colab": {
          "base_uri": "https://localhost:8080/"
        },
        "id": "i_-7fYfRp67k",
        "outputId": "b11bf0d0-d09c-46ca-f3a6-59f46b01c9c4"
      },
      "execution_count": null,
      "outputs": [
        {
          "output_type": "execute_result",
          "data": {
            "text/plain": [
              "((7, 1, 1), (1, 7, 1, 1))"
            ]
          },
          "metadata": {},
          "execution_count": 18
        }
      ]
    },
    {
      "cell_type": "code",
      "source": [
        "print(\"vector \\n\",vector)\n",
        "print(\"vector2 \\n\",vector2)"
      ],
      "metadata": {
        "colab": {
          "base_uri": "https://localhost:8080/"
        },
        "id": "vX-7XwLisEnH",
        "outputId": "df28ffab-91c3-4f73-94a8-8651df8cfc29"
      },
      "execution_count": null,
      "outputs": [
        {
          "output_type": "stream",
          "name": "stdout",
          "text": [
            "vector \n",
            " [[[1]]\n",
            "\n",
            " [[2]]\n",
            "\n",
            " [[3]]\n",
            "\n",
            " [[4]]\n",
            "\n",
            " [[5]]\n",
            "\n",
            " [[6]]\n",
            "\n",
            " [[7]]]\n",
            "vector2 \n",
            " [[[[1]]\n",
            "\n",
            "  [[2]]\n",
            "\n",
            "  [[3]]\n",
            "\n",
            "  [[4]]\n",
            "\n",
            "  [[5]]\n",
            "\n",
            "  [[6]]\n",
            "\n",
            "  [[7]]]]\n"
          ]
        }
      ]
    },
    {
      "cell_type": "code",
      "source": [
        "matrix + vector"
      ],
      "metadata": {
        "colab": {
          "base_uri": "https://localhost:8080/"
        },
        "id": "ZjVVWEMrsDLK",
        "outputId": "3c3b05e1-13b5-48f2-fa7a-cf2828ca6f6d"
      },
      "execution_count": null,
      "outputs": [
        {
          "output_type": "execute_result",
          "data": {
            "text/plain": [
              "array([[1.50175739, 1.7763192 , 1.15991895],\n",
              "       [2.85343337, 2.40307583, 2.14548511],\n",
              "       [3.34317423, 3.87510068, 3.86323144],\n",
              "       [4.23281962, 4.69832606, 4.118324  ],\n",
              "       [5.11048129, 5.31637007, 5.62866888],\n",
              "       [6.0167556 , 6.7366546 , 6.70315635],\n",
              "       [7.23041214, 7.814833  , 7.04199281]])"
            ]
          },
          "metadata": {},
          "execution_count": 16
        }
      ]
    },
    {
      "cell_type": "code",
      "source": [
        "matrix + vector2"
      ],
      "metadata": {
        "colab": {
          "base_uri": "https://localhost:8080/"
        },
        "id": "fkIJBEIKr3uz",
        "outputId": "9de819b0-8d96-4950-bf3f-c832a909412a"
      },
      "execution_count": null,
      "outputs": [
        {
          "output_type": "execute_result",
          "data": {
            "text/plain": [
              "array([[[[1.50175739, 1.7763192 , 1.15991895],\n",
              "         [1.85343337, 1.40307583, 1.14548511],\n",
              "         [1.34317423, 1.87510068, 1.86323144],\n",
              "         [1.23281962, 1.69832606, 1.118324  ],\n",
              "         [1.11048129, 1.31637007, 1.62866888],\n",
              "         [1.0167556 , 1.7366546 , 1.70315635],\n",
              "         [1.23041214, 1.814833  , 1.04199281]],\n",
              "\n",
              "        [[2.50175739, 2.7763192 , 2.15991895],\n",
              "         [2.85343337, 2.40307583, 2.14548511],\n",
              "         [2.34317423, 2.87510068, 2.86323144],\n",
              "         [2.23281962, 2.69832606, 2.118324  ],\n",
              "         [2.11048129, 2.31637007, 2.62866888],\n",
              "         [2.0167556 , 2.7366546 , 2.70315635],\n",
              "         [2.23041214, 2.814833  , 2.04199281]],\n",
              "\n",
              "        [[3.50175739, 3.7763192 , 3.15991895],\n",
              "         [3.85343337, 3.40307583, 3.14548511],\n",
              "         [3.34317423, 3.87510068, 3.86323144],\n",
              "         [3.23281962, 3.69832606, 3.118324  ],\n",
              "         [3.11048129, 3.31637007, 3.62866888],\n",
              "         [3.0167556 , 3.7366546 , 3.70315635],\n",
              "         [3.23041214, 3.814833  , 3.04199281]],\n",
              "\n",
              "        [[4.50175739, 4.7763192 , 4.15991895],\n",
              "         [4.85343337, 4.40307583, 4.14548511],\n",
              "         [4.34317423, 4.87510068, 4.86323144],\n",
              "         [4.23281962, 4.69832606, 4.118324  ],\n",
              "         [4.11048129, 4.31637007, 4.62866888],\n",
              "         [4.0167556 , 4.7366546 , 4.70315635],\n",
              "         [4.23041214, 4.814833  , 4.04199281]],\n",
              "\n",
              "        [[5.50175739, 5.7763192 , 5.15991895],\n",
              "         [5.85343337, 5.40307583, 5.14548511],\n",
              "         [5.34317423, 5.87510068, 5.86323144],\n",
              "         [5.23281962, 5.69832606, 5.118324  ],\n",
              "         [5.11048129, 5.31637007, 5.62866888],\n",
              "         [5.0167556 , 5.7366546 , 5.70315635],\n",
              "         [5.23041214, 5.814833  , 5.04199281]],\n",
              "\n",
              "        [[6.50175739, 6.7763192 , 6.15991895],\n",
              "         [6.85343337, 6.40307583, 6.14548511],\n",
              "         [6.34317423, 6.87510068, 6.86323144],\n",
              "         [6.23281962, 6.69832606, 6.118324  ],\n",
              "         [6.11048129, 6.31637007, 6.62866888],\n",
              "         [6.0167556 , 6.7366546 , 6.70315635],\n",
              "         [6.23041214, 6.814833  , 6.04199281]],\n",
              "\n",
              "        [[7.50175739, 7.7763192 , 7.15991895],\n",
              "         [7.85343337, 7.40307583, 7.14548511],\n",
              "         [7.34317423, 7.87510068, 7.86323144],\n",
              "         [7.23281962, 7.69832606, 7.118324  ],\n",
              "         [7.11048129, 7.31637007, 7.62866888],\n",
              "         [7.0167556 , 7.7366546 , 7.70315635],\n",
              "         [7.23041214, 7.814833  , 7.04199281]]]])"
            ]
          },
          "metadata": {},
          "execution_count": 20
        }
      ]
    },
    {
      "cell_type": "code",
      "source": [
        "np.arange(4).shape"
      ],
      "metadata": {
        "colab": {
          "base_uri": "https://localhost:8080/"
        },
        "id": "x-XxKPPYtczf",
        "outputId": "fafff47c-9b11-4ce8-ba1e-9740a6176e28"
      },
      "execution_count": null,
      "outputs": [
        {
          "output_type": "execute_result",
          "data": {
            "text/plain": [
              "(4,)"
            ]
          },
          "metadata": {},
          "execution_count": 24
        }
      ]
    },
    {
      "cell_type": "markdown",
      "source": [
        "## 2D Slicing"
      ],
      "metadata": {
        "id": "gJEQcPjYuMzT"
      }
    },
    {
      "cell_type": "code",
      "source": [
        "matrix = np.arange(25).reshape(5,-1)\n",
        "matrix"
      ],
      "metadata": {
        "colab": {
          "base_uri": "https://localhost:8080/"
        },
        "id": "qEvmYRI1uOcu",
        "outputId": "c1b068ba-3dd7-4c3d-97a4-de74e04bad23"
      },
      "execution_count": null,
      "outputs": [
        {
          "output_type": "execute_result",
          "data": {
            "text/plain": [
              "array([[ 0,  1,  2,  3,  4],\n",
              "       [ 5,  6,  7,  8,  9],\n",
              "       [10, 11, 12, 13, 14],\n",
              "       [15, 16, 17, 18, 19],\n",
              "       [20, 21, 22, 23, 24]])"
            ]
          },
          "metadata": {},
          "execution_count": 25
        }
      ]
    },
    {
      "cell_type": "code",
      "source": [
        "#We want to drop the 4 entries =>0, 1, 4, 6\n",
        "upper_2x2_corner = matrix[:2,:2] # up to but not include \n",
        "upper_2x2_corner"
      ],
      "metadata": {
        "colab": {
          "base_uri": "https://localhost:8080/"
        },
        "id": "LQg0SZ1Pubfc",
        "outputId": "305e351d-4a94-4cf6-e44d-10fa486e7380"
      },
      "execution_count": null,
      "outputs": [
        {
          "output_type": "execute_result",
          "data": {
            "text/plain": [
              "array([[0, 1],\n",
              "       [5, 6]])"
            ]
          },
          "metadata": {},
          "execution_count": 31
        }
      ]
    },
    {
      "cell_type": "code",
      "source": [
        "lower_2x2_corner = matrix[-2:,-2:] #matrix[3:,3:]\n",
        "lower_2x2_corner"
      ],
      "metadata": {
        "colab": {
          "base_uri": "https://localhost:8080/"
        },
        "id": "gqSpk633u5sp",
        "outputId": "2b9fece7-63b0-49c9-c560-7f07952dd92b"
      },
      "execution_count": null,
      "outputs": [
        {
          "output_type": "execute_result",
          "data": {
            "text/plain": [
              "array([[18, 19],\n",
              "       [23, 24]])"
            ]
          },
          "metadata": {},
          "execution_count": 36
        }
      ]
    },
    {
      "cell_type": "code",
      "source": [
        "matrix[3:,2:]"
      ],
      "metadata": {
        "colab": {
          "base_uri": "https://localhost:8080/"
        },
        "id": "wE8pz2D2uxcF",
        "outputId": "2ed2e64e-bc5f-496b-ad1b-056424d0c133"
      },
      "execution_count": null,
      "outputs": [
        {
          "output_type": "execute_result",
          "data": {
            "text/plain": [
              "array([[17, 18, 19],\n",
              "       [22, 23, 24]])"
            ]
          },
          "metadata": {},
          "execution_count": 37
        }
      ]
    },
    {
      "cell_type": "code",
      "source": [
        "matrix[:,::2]"
      ],
      "metadata": {
        "colab": {
          "base_uri": "https://localhost:8080/"
        },
        "id": "9ss5o9gFvljz",
        "outputId": "8193f203-6856-4d89-965e-4300789cdf44"
      },
      "execution_count": null,
      "outputs": [
        {
          "output_type": "execute_result",
          "data": {
            "text/plain": [
              "array([[ 0,  2,  4],\n",
              "       [ 5,  7,  9],\n",
              "       [10, 12, 14],\n",
              "       [15, 17, 19],\n",
              "       [20, 22, 24]])"
            ]
          },
          "metadata": {},
          "execution_count": 39
        }
      ]
    },
    {
      "cell_type": "code",
      "source": [
        "matrix[:,::2] = 1"
      ],
      "metadata": {
        "id": "Tt-SfPBGv-fc"
      },
      "execution_count": null,
      "outputs": []
    },
    {
      "cell_type": "code",
      "source": [
        "matrix"
      ],
      "metadata": {
        "colab": {
          "base_uri": "https://localhost:8080/"
        },
        "id": "UpWpysOTwMR7",
        "outputId": "c06d5656-c89d-4b83-e898-2c5e030e10da"
      },
      "execution_count": null,
      "outputs": [
        {
          "output_type": "execute_result",
          "data": {
            "text/plain": [
              "array([[ 1,  1,  1,  3,  1],\n",
              "       [ 1,  6,  1,  8,  1],\n",
              "       [ 1, 11,  1, 13,  1],\n",
              "       [ 1, 16,  1, 18,  1],\n",
              "       [ 1, 21,  1, 23,  1]])"
            ]
          },
          "metadata": {},
          "execution_count": 41
        }
      ]
    },
    {
      "cell_type": "code",
      "source": [
        "# Defining the matrix called my_matrix\n",
        "my_matrix = np.array([[1, 4, 5], [10, 13, 9], [10, 8, 5]])\n",
        "\n",
        "# YOURE CODE GOES BELOW HERE!\n",
        "\n",
        "# Pick out every second row of my_matrix\n",
        "every_second_row = my_matrix[::2,:]\n",
        "\n",
        "# Pick out every second column of my_matrix, but in reverse order\n",
        "every_second_column_reversed =  my_matrix[:,2::-2]"
      ],
      "metadata": {
        "id": "49LWO_8rwNP1"
      },
      "execution_count": null,
      "outputs": []
    },
    {
      "cell_type": "code",
      "source": [
        "every_second_row"
      ],
      "metadata": {
        "colab": {
          "base_uri": "https://localhost:8080/"
        },
        "id": "ShRCjWawv6K6",
        "outputId": "cc5fb979-369f-4323-80fb-fcc354ebb4f9"
      },
      "execution_count": null,
      "outputs": [
        {
          "output_type": "execute_result",
          "data": {
            "text/plain": [
              "array([[ 1,  4,  5],\n",
              "       [10,  8,  5]])"
            ]
          },
          "metadata": {},
          "execution_count": 82
        }
      ]
    },
    {
      "cell_type": "code",
      "source": [
        "every_second_column_reversed"
      ],
      "metadata": {
        "colab": {
          "base_uri": "https://localhost:8080/"
        },
        "id": "m1yN5e9BuvH3",
        "outputId": "62bae9ec-c857-4fc9-ecd5-1f4856c0d9ab"
      },
      "execution_count": null,
      "outputs": [
        {
          "output_type": "execute_result",
          "data": {
            "text/plain": [
              "array([[ 5,  1],\n",
              "       [ 9, 10],\n",
              "       [ 5, 10]])"
            ]
          },
          "metadata": {},
          "execution_count": 79
        }
      ]
    },
    {
      "cell_type": "markdown",
      "source": [
        "## Advanced indexing"
      ],
      "metadata": {
        "id": "O2Zxnvm1z0Bo"
      }
    },
    {
      "cell_type": "code",
      "source": [
        "matrix\n",
        "\n"
      ],
      "metadata": {
        "colab": {
          "base_uri": "https://localhost:8080/"
        },
        "id": "DgWT03Guz1tj",
        "outputId": "9c3c3b64-dffa-460a-97c6-c27232ea12ac"
      },
      "execution_count": null,
      "outputs": [
        {
          "output_type": "execute_result",
          "data": {
            "text/plain": [
              "array([[ 1,  1,  1,  3,  1],\n",
              "       [ 1,  6,  1,  8,  1],\n",
              "       [ 1, 11,  1, 13,  1],\n",
              "       [ 1, 16,  1, 18,  1],\n",
              "       [ 1, 21,  1, 23,  1]])"
            ]
          },
          "metadata": {},
          "execution_count": 83
        }
      ]
    },
    {
      "cell_type": "code",
      "source": [
        "#Indexing with lists\n",
        "matrix[[0,2,3],:]"
      ],
      "metadata": {
        "colab": {
          "base_uri": "https://localhost:8080/"
        },
        "id": "ljoMy_mWz_Pa",
        "outputId": "b2c1a799-cb77-4e25-8937-dc96236513d3"
      },
      "execution_count": null,
      "outputs": [
        {
          "output_type": "execute_result",
          "data": {
            "text/plain": [
              "array([[ 1,  1,  1,  3,  1],\n",
              "       [ 1, 11,  1, 13,  1],\n",
              "       [ 1, 16,  1, 18,  1]])"
            ]
          },
          "metadata": {},
          "execution_count": 86
        }
      ]
    },
    {
      "cell_type": "code",
      "source": [
        "#boolean indexing\n",
        "matrix >15"
      ],
      "metadata": {
        "colab": {
          "base_uri": "https://localhost:8080/"
        },
        "id": "72G1-DVp0J4t",
        "outputId": "491c1662-6c6a-4f6d-b998-6aa985d5d312"
      },
      "execution_count": null,
      "outputs": [
        {
          "output_type": "execute_result",
          "data": {
            "text/plain": [
              "array([[False, False, False, False, False],\n",
              "       [False, False, False, False, False],\n",
              "       [False, False, False, False, False],\n",
              "       [False,  True, False,  True, False],\n",
              "       [False,  True, False,  True, False]])"
            ]
          },
          "metadata": {},
          "execution_count": 87
        }
      ]
    },
    {
      "cell_type": "code",
      "source": [
        "matrix[matrix>4], matrix[matrix>4].ndim "
      ],
      "metadata": {
        "colab": {
          "base_uri": "https://localhost:8080/"
        },
        "id": "rv04WsxY0ZiG",
        "outputId": "07e44960-11c7-4b7b-d773-2d891cfbf47b"
      },
      "execution_count": null,
      "outputs": [
        {
          "output_type": "execute_result",
          "data": {
            "text/plain": [
              "(array([ 6,  8, 11, 13, 16, 18, 21, 23]), 1)"
            ]
          },
          "metadata": {},
          "execution_count": 89
        }
      ]
    },
    {
      "cell_type": "code",
      "source": [
        "matrix[(matrix>4) & (matrix <= 18)]"
      ],
      "metadata": {
        "colab": {
          "base_uri": "https://localhost:8080/"
        },
        "id": "LiKIklBO0oa-",
        "outputId": "1a985ee7-0fab-4653-e011-29b28afdff50"
      },
      "execution_count": null,
      "outputs": [
        {
          "output_type": "execute_result",
          "data": {
            "text/plain": [
              "array([ 6,  8, 11, 13, 16, 18])"
            ]
          },
          "metadata": {},
          "execution_count": 90
        }
      ]
    },
    {
      "cell_type": "code",
      "source": [
        "matrix[(matrix<4) | (matrix > 16)]"
      ],
      "metadata": {
        "colab": {
          "base_uri": "https://localhost:8080/"
        },
        "id": "EBUq5i050gzk",
        "outputId": "89296767-57bc-4fba-fe22-d11a1fb96b29"
      },
      "execution_count": null,
      "outputs": [
        {
          "output_type": "execute_result",
          "data": {
            "text/plain": [
              "array([ 1,  1,  1,  3,  1,  1,  1,  1,  1,  1,  1,  1,  1, 18,  1,  1, 21,\n",
              "        1, 23,  1])"
            ]
          },
          "metadata": {},
          "execution_count": 91
        }
      ]
    },
    {
      "cell_type": "code",
      "source": [
        "# Defining the matrix called my_matrix\n",
        "my_matrix = np.array([[1, 4, 5], [10, 13, 9], [10, 8, 5]])\n",
        "\n",
        "# YOURE CODE GOES BELOW HERE!\n",
        "\n",
        "# Use Boolean indexing to extract the even numbers\n",
        "even_numbers = my_matrix[(my_matrix % 2 == 0)]\n",
        "even_numbers\n"
      ],
      "metadata": {
        "colab": {
          "base_uri": "https://localhost:8080/"
        },
        "id": "rKDbXQPD0-dZ",
        "outputId": "3143e874-0614-4950-f10c-9192bd98bb94"
      },
      "execution_count": null,
      "outputs": [
        {
          "output_type": "execute_result",
          "data": {
            "text/plain": [
              "array([ 4, 10, 10,  8])"
            ]
          },
          "metadata": {},
          "execution_count": 93
        }
      ]
    },
    {
      "cell_type": "code",
      "source": [
        "# Use Boolean indexing to extract the odd numbers\n",
        "odd_numbers = my_matrix[(my_matrix % 2 == 1)]\n",
        "odd_numbers"
      ],
      "metadata": {
        "colab": {
          "base_uri": "https://localhost:8080/"
        },
        "id": "fY6mEB710G0w",
        "outputId": "2f0ac4f7-c917-4fdd-f79a-a5b18b7e2155"
      },
      "execution_count": null,
      "outputs": [
        {
          "output_type": "execute_result",
          "data": {
            "text/plain": [
              "array([ 1,  5, 13,  9,  5])"
            ]
          },
          "metadata": {},
          "execution_count": 95
        }
      ]
    }
  ]
}