{
  "nbformat": 4,
  "nbformat_minor": 0,
  "metadata": {
    "colab": {
      "name": "7-basic-linear-algebra.ipynb",
      "provenance": [],
      "authorship_tag": "ABX9TyMbephJLB3gP26x+HjROT3z",
      "include_colab_link": true
    },
    "kernelspec": {
      "name": "python3",
      "display_name": "Python 3"
    },
    "language_info": {
      "name": "python"
    }
  },
  "cells": [
    {
      "cell_type": "markdown",
      "metadata": {
        "id": "view-in-github",
        "colab_type": "text"
      },
      "source": [
        "<a href=\"https://colab.research.google.com/github/hanene2030/numpy/blob/main/7_basic_linear_algebra.ipynb\" target=\"_parent\"><img src=\"https://colab.research.google.com/assets/colab-badge.svg\" alt=\"Open In Colab\"/></a>"
      ]
    },
    {
      "cell_type": "markdown",
      "source": [
        "##Basic algebra"
      ],
      "metadata": {
        "id": "Jx5Nbwy49C10"
      }
    },
    {
      "cell_type": "code",
      "source": [
        "import numpy as np\n",
        "\n",
        "first_v = np.array([1, 3, 34])\n",
        "second_v = np.array([-11, 5, 0])\n",
        "\n",
        "first_m = np.array([[1, 3, 34],[5, 10, 0],[11, -3, 4]])\n",
        "second_m = np.array([[11, 33, 4],[1, 1, 3],[1, 0, 15]])\n",
        "\n"
      ],
      "metadata": {
        "id": "CYrrNZIN9IQY"
      },
      "execution_count": null,
      "outputs": []
    },
    {
      "cell_type": "code",
      "source": [
        "# addition , substraction , Scalar multiplication \n",
        "first_v + second_v, first_m + second_m ,first_v - second_v, first_m - second_m  ,3* first_v, 3* first_m "
      ],
      "metadata": {
        "colab": {
          "base_uri": "https://localhost:8080/"
        },
        "id": "Gky1vb9a9GEV",
        "outputId": "58e864b3-dce1-4c8a-df08-58ce94fabdaa"
      },
      "execution_count": null,
      "outputs": [
        {
          "output_type": "execute_result",
          "data": {
            "text/plain": [
              "(array([-10,   8,  34]), array([[12, 36, 38],\n",
              "        [ 6, 11,  3],\n",
              "        [12, -3, 19]]), array([12, -2, 34]), array([[-10, -30,  30],\n",
              "        [  4,   9,  -3],\n",
              "        [ 10,  -3, -11]]), array([  3,   9, 102]), array([[  3,   9, 102],\n",
              "        [ 15,  30,   0],\n",
              "        [ 33,  -9,  12]]))"
            ]
          },
          "metadata": {},
          "execution_count": 8
        }
      ]
    },
    {
      "cell_type": "code",
      "source": [
        "#Dot product\n",
        "np.dot(first_v,second_v)\n"
      ],
      "metadata": {
        "colab": {
          "base_uri": "https://localhost:8080/"
        },
        "id": "MGGDMX_W_Ajq",
        "outputId": "f3d1fe5c-03b8-4bd7-c259-63ad68e945ed"
      },
      "execution_count": null,
      "outputs": [
        {
          "output_type": "execute_result",
          "data": {
            "text/plain": [
              "(4, array([[ 48,  36, 523],\n",
              "        [ 65, 175,  50],\n",
              "        [122, 360,  95]]))"
            ]
          },
          "metadata": {},
          "execution_count": 11
        }
      ]
    },
    {
      "cell_type": "code",
      "source": [
        "def are_orth(v1,v2):\n",
        "  return np.dot(v1,v2) == 0\n",
        "are_orth(first_v, second_v)"
      ],
      "metadata": {
        "colab": {
          "base_uri": "https://localhost:8080/"
        },
        "id": "wuY9pmZN_2nz",
        "outputId": "b179edb1-7178-4413-fb5f-b7fc437e6ebe"
      },
      "execution_count": null,
      "outputs": [
        {
          "output_type": "execute_result",
          "data": {
            "text/plain": [
              "False"
            ]
          },
          "metadata": {},
          "execution_count": 10
        }
      ]
    },
    {
      "cell_type": "code",
      "source": [
        "#Cross product only works for 2 and 3 dim\n",
        "#if v // => 0,..0\n",
        "# always ortho on both/all vectors"
      ],
      "metadata": {
        "id": "PcO-mPbv-9XG"
      },
      "execution_count": null,
      "outputs": []
    },
    {
      "cell_type": "code",
      "source": [
        "from numpy.core.fromnumeric import searchsorted\n",
        "cross = np.cross(first_v, second_v)\n",
        "are_orth(cross, first_v), are_orth(cross, second_v), cross"
      ],
      "metadata": {
        "colab": {
          "base_uri": "https://localhost:8080/"
        },
        "id": "8TuAzFxRBLAN",
        "outputId": "055cfda7-4aa8-4b93-cbce-406b6dcaf854"
      },
      "execution_count": null,
      "outputs": [
        {
          "output_type": "execute_result",
          "data": {
            "text/plain": [
              "(True, True, array([-170, -374,   38]))"
            ]
          },
          "metadata": {},
          "execution_count": 17
        }
      ]
    },
    {
      "cell_type": "code",
      "source": [
        "from numpy import linalg as alg\n",
        "\n",
        "# Length of a vector\n",
        "alg.norm(first_v)\n"
      ],
      "metadata": {
        "colab": {
          "base_uri": "https://localhost:8080/"
        },
        "id": "ODvuntgIBTbU",
        "outputId": "b51469f9-c526-4170-ba1b-36faf900325f"
      },
      "execution_count": null,
      "outputs": [
        {
          "output_type": "execute_result",
          "data": {
            "text/plain": [
              "34.14674215792775"
            ]
          },
          "metadata": {},
          "execution_count": 18
        }
      ]
    },
    {
      "cell_type": "code",
      "source": [
        "alg.norm(first_m)"
      ],
      "metadata": {
        "colab": {
          "base_uri": "https://localhost:8080/"
        },
        "id": "AN0mdk1N-2BA",
        "outputId": "86a34444-fe75-4940-86aa-1adea5668031"
      },
      "execution_count": null,
      "outputs": [
        {
          "output_type": "execute_result",
          "data": {
            "text/plain": [
              "37.907782842049734"
            ]
          },
          "metadata": {},
          "execution_count": 19
        }
      ]
    },
    {
      "cell_type": "code",
      "source": [
        "def angle(v1, v2):\n",
        "  cos_angle = np.dot(v1,v2)/ (alg.norm(v1) * alg.norm(v1))\n",
        "  return np.arccos(cos_angle)\n",
        "angle(first_v, second_v) *180/np.pi,angle(first_v, cross)*180/np.pi"
      ],
      "metadata": {
        "colab": {
          "base_uri": "https://localhost:8080/"
        },
        "id": "HL-GWbMl-dU6",
        "outputId": "ae9979e9-8c64-427a-8527-a13af18c5365"
      },
      "execution_count": null,
      "outputs": [
        {
          "output_type": "execute_result",
          "data": {
            "text/plain": [
              "(89.80344462471687, 90.0)"
            ]
          },
          "metadata": {},
          "execution_count": 26
        }
      ]
    },
    {
      "cell_type": "markdown",
      "source": [
        "### Matrix operation"
      ],
      "metadata": {
        "id": "di6DYJCMEGiu"
      }
    },
    {
      "cell_type": "code",
      "source": [
        "#Matrix product\n",
        "# If we use Identity matrix =>Does nothing"
      ],
      "metadata": {
        "id": "2-OZV8VCEJJX"
      },
      "execution_count": null,
      "outputs": []
    },
    {
      "cell_type": "code",
      "source": [
        "first_m @ first_v"
      ],
      "metadata": {
        "colab": {
          "base_uri": "https://localhost:8080/"
        },
        "id": "WNiehOvtEmBm",
        "outputId": "e491bf12-e6f5-4929-f4ce-b99e1c7403fc"
      },
      "execution_count": null,
      "outputs": [
        {
          "output_type": "execute_result",
          "data": {
            "text/plain": [
              "array([1166,   35,  138])"
            ]
          },
          "metadata": {},
          "execution_count": 28
        }
      ]
    },
    {
      "cell_type": "code",
      "execution_count": null,
      "metadata": {
        "colab": {
          "base_uri": "https://localhost:8080/"
        },
        "id": "of-n3Fmd86T6",
        "outputId": "19ada037-f077-49c3-9a15-ce87369a431d"
      },
      "outputs": [
        {
          "output_type": "execute_result",
          "data": {
            "text/plain": [
              "array([[ 48,  36, 523],\n",
              "       [ 65, 175,  50],\n",
              "       [122, 360,  95]])"
            ]
          },
          "metadata": {},
          "execution_count": 29
        }
      ],
      "source": [
        "  first_m @ second_m"
      ]
    },
    {
      "cell_type": "code",
      "source": [
        "#np.matmul = @\n",
        "np.matmul(first_m , second_m)"
      ],
      "metadata": {
        "colab": {
          "base_uri": "https://localhost:8080/"
        },
        "id": "tbULFwr-E0Tv",
        "outputId": "6334ccd7-bec2-4e03-deaf-ae4a74b150b7"
      },
      "execution_count": null,
      "outputs": [
        {
          "output_type": "execute_result",
          "data": {
            "text/plain": [
              "array([[ 48,  36, 523],\n",
              "       [ 65, 175,  50],\n",
              "       [122, 360,  95]])"
            ]
          },
          "metadata": {},
          "execution_count": 31
        }
      ]
    },
    {
      "cell_type": "code",
      "source": [
        "np.identity(3) @ first_m"
      ],
      "metadata": {
        "colab": {
          "base_uri": "https://localhost:8080/"
        },
        "id": "KYT2hpoaFIN_",
        "outputId": "45a13ff6-cae3-41cb-8efe-de4f4f41d6bc"
      },
      "execution_count": null,
      "outputs": [
        {
          "output_type": "execute_result",
          "data": {
            "text/plain": [
              "array([[ 1.,  3., 34.],\n",
              "       [ 5., 10.,  0.],\n",
              "       [11., -3.,  4.]])"
            ]
          },
          "metadata": {},
          "execution_count": 36
        }
      ]
    },
    {
      "cell_type": "code",
      "source": [
        "#Matrix power\n",
        "alg.matrix_power(first_m, 4)"
      ],
      "metadata": {
        "colab": {
          "base_uri": "https://localhost:8080/"
        },
        "id": "O8TdGBpYFeWS",
        "outputId": "cf5b186d-88ca-45ef-bea7-610d306573a1"
      },
      "execution_count": null,
      "outputs": [
        {
          "output_type": "execute_result",
          "data": {
            "text/plain": [
              "array([[155105, -36375, 120870],\n",
              "       [ 34575,   7900,  95200],\n",
              "       [ 30705,  -7305, 157370]])"
            ]
          },
          "metadata": {},
          "execution_count": 37
        }
      ]
    },
    {
      "cell_type": "code",
      "source": [
        "# Transpose a matrix\n",
        "display(first_m.T, first_m)"
      ],
      "metadata": {
        "colab": {
          "base_uri": "https://localhost:8080/",
          "height": 121
        },
        "id": "80-kgSXSFy1j",
        "outputId": "f261ad33-5ad1-4b32-84e7-3526709d40ac"
      },
      "execution_count": null,
      "outputs": [
        {
          "output_type": "display_data",
          "data": {
            "text/plain": [
              "array([[ 1,  5, 11],\n",
              "       [ 3, 10, -3],\n",
              "       [34,  0,  4]])"
            ]
          },
          "metadata": {}
        },
        {
          "output_type": "display_data",
          "data": {
            "text/plain": [
              "array([[ 1,  3, 34],\n",
              "       [ 5, 10,  0],\n",
              "       [11, -3,  4]])"
            ]
          },
          "metadata": {}
        }
      ]
    },
    {
      "cell_type": "code",
      "source": [
        "first_m.transpose()"
      ],
      "metadata": {
        "colab": {
          "base_uri": "https://localhost:8080/"
        },
        "id": "n-JwJ7W7GExo",
        "outputId": "6ec64f28-7908-47ee-cf5f-8ab2f4a7f5d8"
      },
      "execution_count": null,
      "outputs": [
        {
          "output_type": "execute_result",
          "data": {
            "text/plain": [
              "array([[ 1,  5, 11],\n",
              "       [ 3, 10, -3],\n",
              "       [34,  0,  4]])"
            ]
          },
          "metadata": {},
          "execution_count": 41
        }
      ]
    },
    {
      "cell_type": "code",
      "source": [
        "# Defining the matrix called my_matrix\n",
        "my_matrix = np.array([[1, 4, 5], [10, 13, 9], [10, 8, 5]])\n",
        "\n",
        "# YOURE CODE GOES BELOW HERE!\n",
        "\n",
        "# The multiplication of the matrix with its transpose\n",
        "my_matrix_mul_transpose = my_matrix @ my_matrix.T\n",
        "my_matrix_mul_transpose"
      ],
      "metadata": {
        "colab": {
          "base_uri": "https://localhost:8080/"
        },
        "id": "x3bbnJFNGNPx",
        "outputId": "0bf33a1e-b8d7-4c7a-8e36-39fe9bff6e8a"
      },
      "execution_count": null,
      "outputs": [
        {
          "output_type": "execute_result",
          "data": {
            "text/plain": [
              "array([[ 42, 107,  67],\n",
              "       [107, 350, 249],\n",
              "       [ 67, 249, 189]])"
            ]
          },
          "metadata": {},
          "execution_count": 47
        }
      ]
    },
    {
      "cell_type": "markdown",
      "source": [
        "## Solving linear systems"
      ],
      "metadata": {
        "id": "x_PDg3b8HIWk"
      }
    },
    {
      "cell_type": "code",
      "source": [
        "#invertable or not zero=>not invertable\n",
        "#we need linalg\n",
        "alg.det(first_m)"
      ],
      "metadata": {
        "colab": {
          "base_uri": "https://localhost:8080/"
        },
        "id": "Zm8a3pxjHVJl",
        "outputId": "1bb6fab4-0aae-4a71-aa20-6178c22ef9fc"
      },
      "execution_count": null,
      "outputs": [
        {
          "output_type": "execute_result",
          "data": {
            "text/plain": [
              "-4269.9999999999945"
            ]
          },
          "metadata": {},
          "execution_count": 48
        }
      ]
    },
    {
      "cell_type": "code",
      "source": [
        "alg.det(np.eye(5))"
      ],
      "metadata": {
        "colab": {
          "base_uri": "https://localhost:8080/"
        },
        "id": "kV0YtSq4F-8m",
        "outputId": "d45dae23-7b60-4c15-da28-fc8fc0f73245"
      },
      "execution_count": null,
      "outputs": [
        {
          "output_type": "execute_result",
          "data": {
            "text/plain": [
              "1.0"
            ]
          },
          "metadata": {},
          "execution_count": 50
        }
      ]
    },
    {
      "cell_type": "code",
      "source": [
        "a = np.array([[1, 2,3],[2,3,4],[1, 1, 1]]) \n"
      ],
      "metadata": {
        "id": "zpVlG_DKF9Rq"
      },
      "execution_count": null,
      "outputs": []
    },
    {
      "cell_type": "code",
      "source": [
        "alg.det(a)"
      ],
      "metadata": {
        "colab": {
          "base_uri": "https://localhost:8080/"
        },
        "id": "gJT3oJvfIvno",
        "outputId": "1c84f73d-768b-41fb-f663-c7b17bfba899"
      },
      "execution_count": null,
      "outputs": [
        {
          "output_type": "execute_result",
          "data": {
            "text/plain": [
              "0.0"
            ]
          },
          "metadata": {},
          "execution_count": 63
        }
      ]
    },
    {
      "cell_type": "code",
      "source": [
        "#inverse matrix\n",
        "np.around(alg.inv(first_m) @ first_m , decimals=10)"
      ],
      "metadata": {
        "colab": {
          "base_uri": "https://localhost:8080/"
        },
        "id": "9K7vegyPI2Cu",
        "outputId": "d6cca251-8d8f-47d2-8f4f-d21704179023"
      },
      "execution_count": null,
      "outputs": [
        {
          "output_type": "execute_result",
          "data": {
            "text/plain": [
              "array([[ 1.,  0.,  0.],\n",
              "       [ 0.,  1.,  0.],\n",
              "       [-0., -0.,  1.]])"
            ]
          },
          "metadata": {},
          "execution_count": 71
        }
      ]
    },
    {
      "cell_type": "code",
      "source": [
        "#With one unique solution"
      ],
      "metadata": {
        "id": "Y5F0udXeI7II"
      },
      "execution_count": null,
      "outputs": []
    },
    {
      "cell_type": "code",
      "source": [
        "solution = alg.solve(first_m, first_v)\n",
        "solution\n"
      ],
      "metadata": {
        "colab": {
          "base_uri": "https://localhost:8080/"
        },
        "id": "GG9B8K0WLbPJ",
        "outputId": "6028b0ef-0432-4687-bc2e-7e71ac376670"
      },
      "execution_count": null,
      "outputs": [
        {
          "output_type": "execute_result",
          "data": {
            "text/plain": [
              "array([ 2.77798595, -1.08899297,  0.04379391])"
            ]
          },
          "metadata": {},
          "execution_count": 75
        }
      ]
    },
    {
      "cell_type": "code",
      "source": [
        "first_m @ solution , first_v"
      ],
      "metadata": {
        "colab": {
          "base_uri": "https://localhost:8080/"
        },
        "id": "Xbt8Wa43LssW",
        "outputId": "86a02e76-9d73-4227-be30-b8f8a5d132f7"
      },
      "execution_count": null,
      "outputs": [
        {
          "output_type": "execute_result",
          "data": {
            "text/plain": [
              "(array([ 1.,  3., 34.]), array([ 1,  3, 34]))"
            ]
          },
          "metadata": {},
          "execution_count": 77
        }
      ]
    },
    {
      "cell_type": "code",
      "source": [
        "# with no solution \n",
        "#alg.solve(a, first_v) =>Error or number very very big"
      ],
      "metadata": {
        "id": "YYCm4Mx6L00c"
      },
      "execution_count": null,
      "outputs": []
    },
    {
      "cell_type": "code",
      "source": [
        "#with infinetly many solution\n",
        "#=> We get only one solutio "
      ],
      "metadata": {
        "id": "Osgjk7L6MNNx"
      },
      "execution_count": null,
      "outputs": []
    },
    {
      "cell_type": "code",
      "source": [
        ""
      ],
      "metadata": {
        "id": "7eLFST4tLx5h"
      },
      "execution_count": null,
      "outputs": []
    },
    {
      "cell_type": "code",
      "source": [
        ""
      ],
      "metadata": {
        "id": "adS_iXYbLqam"
      },
      "execution_count": null,
      "outputs": []
    },
    {
      "cell_type": "code",
      "source": [
        ""
      ],
      "metadata": {
        "id": "8Ua6kbDpLnT4"
      },
      "execution_count": null,
      "outputs": []
    },
    {
      "cell_type": "code",
      "source": [
        ""
      ],
      "metadata": {
        "id": "2FXdV6AXFckm"
      },
      "execution_count": null,
      "outputs": []
    },
    {
      "cell_type": "code",
      "source": [
        ""
      ],
      "metadata": {
        "id": "oOF0__6sFa_5"
      },
      "execution_count": null,
      "outputs": []
    },
    {
      "cell_type": "code",
      "source": [
        ""
      ],
      "metadata": {
        "id": "JReLGil7FZkt"
      },
      "execution_count": null,
      "outputs": []
    },
    {
      "cell_type": "code",
      "source": [
        ""
      ],
      "metadata": {
        "id": "4R75eKuhFUuo"
      },
      "execution_count": null,
      "outputs": []
    },
    {
      "cell_type": "code",
      "source": [
        ""
      ],
      "metadata": {
        "id": "8xZU8Md6E6uI"
      },
      "execution_count": null,
      "outputs": []
    },
    {
      "cell_type": "code",
      "source": [
        "\n"
      ],
      "metadata": {
        "id": "1W203KVYE0qV"
      },
      "execution_count": null,
      "outputs": []
    },
    {
      "cell_type": "code",
      "source": [
        ""
      ],
      "metadata": {
        "id": "nKXgk5msE04V"
      },
      "execution_count": null,
      "outputs": []
    },
    {
      "cell_type": "code",
      "source": [
        ""
      ],
      "metadata": {
        "id": "UYBCDDhJE07V"
      },
      "execution_count": null,
      "outputs": []
    },
    {
      "cell_type": "code",
      "source": [
        ""
      ],
      "metadata": {
        "id": "umL7IXNmE099"
      },
      "execution_count": null,
      "outputs": []
    },
    {
      "cell_type": "code",
      "source": [
        ""
      ],
      "metadata": {
        "id": "6880igg9E1Aj"
      },
      "execution_count": null,
      "outputs": []
    },
    {
      "cell_type": "code",
      "source": [
        ""
      ],
      "metadata": {
        "id": "Wx957aPkE1DH"
      },
      "execution_count": null,
      "outputs": []
    },
    {
      "cell_type": "code",
      "source": [
        ""
      ],
      "metadata": {
        "id": "Ysh9L7w9E1GE"
      },
      "execution_count": null,
      "outputs": []
    }
  ]
}