{
  "nbformat": 4,
  "nbformat_minor": 0,
  "metadata": {
    "colab": {
      "name": "1-vectors.ipynb",
      "provenance": [],
      "toc_visible": true,
      "authorship_tag": "ABX9TyMdqvgm1TOXqT5x6kZwMgxU",
      "include_colab_link": true
    },
    "kernelspec": {
      "name": "python3",
      "display_name": "Python 3"
    },
    "language_info": {
      "name": "python"
    }
  },
  "cells": [
    {
      "cell_type": "markdown",
      "metadata": {
        "id": "view-in-github",
        "colab_type": "text"
      },
      "source": [
        "<a href=\"https://colab.research.google.com/github/hanene2030/numpy/blob/main/1_vectors.ipynb\" target=\"_parent\"><img src=\"https://colab.research.google.com/assets/colab-badge.svg\" alt=\"Open In Colab\"/></a>"
      ]
    },
    {
      "cell_type": "markdown",
      "source": [
        "# Worknig with vectors\n"
      ],
      "metadata": {
        "id": "1faq4mot35F0"
      }
    },
    {
      "cell_type": "markdown",
      "source": [
        "## Creating vectors & extracting values"
      ],
      "metadata": {
        "id": "9CZ5Wrua6nUH"
      }
    },
    {
      "cell_type": "code",
      "source": [
        "import numpy as np\n",
        "list_of_nums =[4, 8, 6, 8]\n",
        "array = np.array(list_of_nums)\n",
        "print(type(array), type(list_of_nums))"
      ],
      "metadata": {
        "colab": {
          "base_uri": "https://localhost:8080/"
        },
        "id": "bjRAZi794B0A",
        "outputId": "411a555b-b4e5-441d-9ac9-47e52ee52713"
      },
      "execution_count": null,
      "outputs": [
        {
          "output_type": "stream",
          "name": "stdout",
          "text": [
            "<class 'numpy.ndarray'> <class 'list'>\n"
          ]
        }
      ]
    },
    {
      "cell_type": "code",
      "source": [
        "# Extracting values\n",
        "print(array[-1])"
      ],
      "metadata": {
        "colab": {
          "base_uri": "https://localhost:8080/"
        },
        "id": "aSL8norh4hiP",
        "outputId": "7e7f814d-62c3-43b6-e708-4a14c756befc"
      },
      "execution_count": null,
      "outputs": [
        {
          "output_type": "stream",
          "name": "stdout",
          "text": [
            "8\n"
          ]
        }
      ]
    },
    {
      "cell_type": "code",
      "source": [
        "#Setting value\n",
        "array[-1]= 4\n",
        "array"
      ],
      "metadata": {
        "colab": {
          "base_uri": "https://localhost:8080/"
        },
        "id": "wbSLqWpj45GF",
        "outputId": "b99a85d7-3846-4682-f884-fa38f5c77d9b"
      },
      "execution_count": null,
      "outputs": [
        {
          "output_type": "execute_result",
          "data": {
            "text/plain": [
              "array([4, 8, 6, 4])"
            ]
          },
          "metadata": {},
          "execution_count": 3
        }
      ]
    },
    {
      "cell_type": "code",
      "source": [
        "# Creating vectors with np.arange "
      ],
      "metadata": {
        "id": "v7jsIwPt5G0C"
      },
      "execution_count": null,
      "outputs": []
    },
    {
      "cell_type": "code",
      "source": [
        "squential_numbers = np.arange(1, 2, 0.1)\n",
        "squential_numbers"
      ],
      "metadata": {
        "colab": {
          "base_uri": "https://localhost:8080/"
        },
        "id": "w-DDqO8_5DcW",
        "outputId": "4ddaa6f5-7dc1-4179-ff2b-e1c4b97eed2e"
      },
      "execution_count": null,
      "outputs": [
        {
          "output_type": "execute_result",
          "data": {
            "text/plain": [
              "array([1. , 1.1, 1.2, 1.3, 1.4, 1.5, 1.6, 1.7, 1.8, 1.9])"
            ]
          },
          "metadata": {},
          "execution_count": 5
        }
      ]
    },
    {
      "cell_type": "code",
      "source": [
        "squential_numbers2 = np.arange(20)\n",
        "squential_numbers2 # Not included 20"
      ],
      "metadata": {
        "colab": {
          "base_uri": "https://localhost:8080/"
        },
        "id": "M9fS1ISX5iiI",
        "outputId": "46563ce3-1926-4c37-d66a-c4e4a0d9adc5"
      },
      "execution_count": null,
      "outputs": [
        {
          "output_type": "execute_result",
          "data": {
            "text/plain": [
              "array([ 0,  1,  2,  3,  4,  5,  6,  7,  8,  9, 10, 11, 12, 13, 14, 15, 16,\n",
              "       17, 18, 19])"
            ]
          },
          "metadata": {},
          "execution_count": 6
        }
      ]
    },
    {
      "cell_type": "code",
      "source": [
        "squential_numbers3 = np.arange(20, 40)\n",
        "squential_numbers3 # Not included 40, included 20"
      ],
      "metadata": {
        "colab": {
          "base_uri": "https://localhost:8080/"
        },
        "id": "eOZYNP2K5tjU",
        "outputId": "6e7a0317-97ab-4ea7-d2e9-a0c6eeed3cf9"
      },
      "execution_count": null,
      "outputs": [
        {
          "output_type": "execute_result",
          "data": {
            "text/plain": [
              "array([20, 21, 22, 23, 24, 25, 26, 27, 28, 29, 30, 31, 32, 33, 34, 35, 36,\n",
              "       37, 38, 39])"
            ]
          },
          "metadata": {},
          "execution_count": 7
        }
      ]
    },
    {
      "cell_type": "markdown",
      "source": [
        "## Basic operations"
      ],
      "metadata": {
        "id": "NshQuSPT6gGL"
      }
    },
    {
      "cell_type": "code",
      "source": [
        "first = np.arange(4, 10)\n",
        "second = np.arange(10, 16)\n",
        "#print(first.shape, second.shape)\n",
        "#Addition\n",
        "summation = first + second\n",
        "print(first, \"  +  \", second, \"     =      \",summation)\n"
      ],
      "metadata": {
        "colab": {
          "base_uri": "https://localhost:8080/"
        },
        "id": "crY2igjN6iWA",
        "outputId": "43987cb7-47f4-4f64-afc2-b0f8ff8b5e30"
      },
      "execution_count": null,
      "outputs": [
        {
          "output_type": "stream",
          "name": "stdout",
          "text": [
            "[4 5 6 7 8 9]   +   [10 11 12 13 14 15]      =       [14 16 18 20 22 24]\n"
          ]
        }
      ]
    },
    {
      "cell_type": "code",
      "source": [
        "# With list + is equal to concat\n",
        "list1 = [1, 2]\n",
        "list2 = [2, 3]\n",
        "print(list1+ list2 )"
      ],
      "metadata": {
        "colab": {
          "base_uri": "https://localhost:8080/"
        },
        "id": "bV2x5XPi7IXs",
        "outputId": "e028e7e7-5727-48be-8fe4-661e97d5c3db"
      },
      "execution_count": null,
      "outputs": [
        {
          "output_type": "stream",
          "name": "stdout",
          "text": [
            "[1, 2, 2, 3]\n"
          ]
        }
      ]
    },
    {
      "cell_type": "code",
      "source": [
        "#Substraction\n",
        "substraction = first - second\n",
        "print(first, \"  -  \", second, \"     =      \",substraction)"
      ],
      "metadata": {
        "colab": {
          "base_uri": "https://localhost:8080/"
        },
        "id": "ij9eUeLR7iGj",
        "outputId": "96e98421-1711-4033-dc5c-2f71f726bb90"
      },
      "execution_count": null,
      "outputs": [
        {
          "output_type": "stream",
          "name": "stdout",
          "text": [
            "[4 5 6 7 8 9]   -   [10 11 12 13 14 15]      =       [-6 -6 -6 -6 -6 -6]\n"
          ]
        }
      ]
    },
    {
      "cell_type": "code",
      "source": [
        "#Multiplication\n",
        "multiplication = first * second\n",
        "print(first, \"  *  \", second, \"     =      \",multiplication)"
      ],
      "metadata": {
        "colab": {
          "base_uri": "https://localhost:8080/"
        },
        "id": "NYxZ0QFm75yo",
        "outputId": "d304fa7c-692d-4849-d340-27a2e6bc9259"
      },
      "execution_count": null,
      "outputs": [
        {
          "output_type": "stream",
          "name": "stdout",
          "text": [
            "[4 5 6 7 8 9]   *   [10 11 12 13 14 15]      =       [ 40  55  72  91 112 135]\n"
          ]
        }
      ]
    },
    {
      "cell_type": "code",
      "source": [
        "#Division\n",
        "division = np.around(first / second ,2 )# round fnct doesnt work with np array , use np.around\n",
        "print(first, \"  /  \", second, \"     =      \",division)"
      ],
      "metadata": {
        "colab": {
          "base_uri": "https://localhost:8080/"
        },
        "id": "0ZRJZGhI8I5b",
        "outputId": "597ed184-e1f2-49a2-abe9-03abf78701f6"
      },
      "execution_count": null,
      "outputs": [
        {
          "output_type": "stream",
          "name": "stdout",
          "text": [
            "[4 5 6 7 8 9]   /   [10 11 12 13 14 15]      =       [0.4  0.45 0.5  0.54 0.57 0.6 ]\n"
          ]
        }
      ]
    },
    {
      "cell_type": "code",
      "source": [
        "#Exponentiation\n",
        "exponentiation = first ** second\n",
        "print(first, \"  **  \", second, \"     =      \",exponentiation)"
      ],
      "metadata": {
        "colab": {
          "base_uri": "https://localhost:8080/"
        },
        "id": "zOo9rHOe8rAR",
        "outputId": "3d51ee82-12cd-4056-b117-c7b5ca7f9ad3"
      },
      "execution_count": null,
      "outputs": [
        {
          "output_type": "stream",
          "name": "stdout",
          "text": [
            "[4 5 6 7 8 9]   **   [10 11 12 13 14 15]      =       [        1048576        48828125      2176782336     96889010407\n",
            "   4398046511104 205891132094649]\n"
          ]
        }
      ]
    },
    {
      "cell_type": "code",
      "source": [
        "np.array([2, 4]) ** np.array([1, 2]) "
      ],
      "metadata": {
        "colab": {
          "base_uri": "https://localhost:8080/"
        },
        "id": "gM1xCWaS85VS",
        "outputId": "6c0b14fa-128f-471a-c7ab-860bf59f7fce"
      },
      "execution_count": null,
      "outputs": [
        {
          "output_type": "execute_result",
          "data": {
            "text/plain": [
              "array([ 2, 16])"
            ]
          },
          "metadata": {},
          "execution_count": 14
        }
      ]
    },
    {
      "cell_type": "markdown",
      "source": [
        "## Numpy datatypes"
      ],
      "metadata": {
        "id": "fi16WHOW9mO5"
      }
    },
    {
      "cell_type": "code",
      "source": [
        "#What datatypes does numpy have=> NumPy supports a much greater variety of numerical types than Python does ,Source:\n",
        "#https://numpy.org/doc/stable/user/basics.types.html\n",
        "array = np.arange(20)\n",
        "array.dtype"
      ],
      "metadata": {
        "colab": {
          "base_uri": "https://localhost:8080/"
        },
        "id": "sY7jB4Dk9oj6",
        "outputId": "a376e0e8-aa9c-4297-b335-c241a5b7755f"
      },
      "execution_count": null,
      "outputs": [
        {
          "output_type": "execute_result",
          "data": {
            "text/plain": [
              "dtype('int64')"
            ]
          },
          "metadata": {},
          "execution_count": 15
        }
      ]
    },
    {
      "cell_type": "code",
      "source": [
        "array = np.array([1, 2, 3], dtype=np.float16 )\n",
        "array.dtype"
      ],
      "metadata": {
        "colab": {
          "base_uri": "https://localhost:8080/"
        },
        "id": "RGDCv8Eg-wcH",
        "outputId": "3d59023b-924f-46b2-db62-9c3c9c8ecb0c"
      },
      "execution_count": null,
      "outputs": [
        {
          "output_type": "execute_result",
          "data": {
            "text/plain": [
              "dtype('float16')"
            ]
          },
          "metadata": {},
          "execution_count": 16
        }
      ]
    },
    {
      "cell_type": "code",
      "source": [
        "array = np.array([10, 20, 53], dtype=np.int8 )\n",
        "array.dtype"
      ],
      "metadata": {
        "colab": {
          "base_uri": "https://localhost:8080/"
        },
        "id": "cVzmhzIk-zJ9",
        "outputId": "ab12513a-5b7d-4a44-dfe3-86cae123584f"
      },
      "execution_count": null,
      "outputs": [
        {
          "output_type": "execute_result",
          "data": {
            "text/plain": [
              "dtype('int8')"
            ]
          },
          "metadata": {},
          "execution_count": 17
        }
      ]
    },
    {
      "cell_type": "code",
      "source": [
        "array + 100"
      ],
      "metadata": {
        "colab": {
          "base_uri": "https://localhost:8080/"
        },
        "id": "JuuizaGh-_oN",
        "outputId": "9e0cf8b1-11e6-41ed-cc79-82da91db20f9"
      },
      "execution_count": null,
      "outputs": [
        {
          "output_type": "execute_result",
          "data": {
            "text/plain": [
              "array([ 110,  120, -103], dtype=int8)"
            ]
          },
          "metadata": {},
          "execution_count": 18
        }
      ]
    },
    {
      "cell_type": "code",
      "source": [
        "#Size of a vector\n",
        "array.size"
      ],
      "metadata": {
        "colab": {
          "base_uri": "https://localhost:8080/"
        },
        "id": "_fERmcVd_Bz5",
        "outputId": "82375717-2ef1-4d24-b687-2cc2e136e522"
      },
      "execution_count": null,
      "outputs": [
        {
          "output_type": "execute_result",
          "data": {
            "text/plain": [
              "3"
            ]
          },
          "metadata": {},
          "execution_count": 19
        }
      ]
    },
    {
      "cell_type": "code",
      "source": [
        "len(array) # better to use size attribute"
      ],
      "metadata": {
        "colab": {
          "base_uri": "https://localhost:8080/"
        },
        "id": "-HDXSBAD_Si7",
        "outputId": "ed8f9e94-57fc-4c3b-f4ff-a2648902099a"
      },
      "execution_count": null,
      "outputs": [
        {
          "output_type": "execute_result",
          "data": {
            "text/plain": [
              "3"
            ]
          },
          "metadata": {},
          "execution_count": 20
        }
      ]
    },
    {
      "cell_type": "code",
      "source": [
        "#  access number of bytes that have been used\n",
        "array = np.array([10, 20, 53], dtype=np.int32 )\n",
        "array.nbytes, array.size\n"
      ],
      "metadata": {
        "colab": {
          "base_uri": "https://localhost:8080/"
        },
        "id": "Sp6OiXhR_buM",
        "outputId": "47d40c01-8f7f-45e8-d72b-5dd55e60a1ba"
      },
      "execution_count": null,
      "outputs": [
        {
          "output_type": "execute_result",
          "data": {
            "text/plain": [
              "(12, 3)"
            ]
          },
          "metadata": {},
          "execution_count": 21
        }
      ]
    },
    {
      "cell_type": "markdown",
      "source": [
        "## Slicing "
      ],
      "metadata": {
        "id": "VJxusCFS_2v2"
      }
    },
    {
      "cell_type": "code",
      "source": [
        "array = np.array([\"1\", \"4\", \"10\", \"20\", \"30\", \"34\"])\n",
        "# take everithing after a specific index\n",
        "array[3:] , array[:], array[1:] , array[100:]"
      ],
      "metadata": {
        "colab": {
          "base_uri": "https://localhost:8080/"
        },
        "id": "jfS3khAR_4Z5",
        "outputId": "e741ea32-7d5b-4aeb-f9ed-3eeb4cece295"
      },
      "execution_count": null,
      "outputs": [
        {
          "output_type": "execute_result",
          "data": {
            "text/plain": [
              "(array(['20', '30', '34'], dtype='<U2'),\n",
              " array(['1', '4', '10', '20', '30', '34'], dtype='<U2'),\n",
              " array(['4', '10', '20', '30', '34'], dtype='<U2'),\n",
              " array([], dtype='<U2'))"
            ]
          },
          "metadata": {},
          "execution_count": 22
        }
      ]
    },
    {
      "cell_type": "code",
      "source": [
        "# everithing before an array\n",
        "array[:3], array[:100] "
      ],
      "metadata": {
        "colab": {
          "base_uri": "https://localhost:8080/"
        },
        "id": "OXRRHXMPAZyk",
        "outputId": "e016d6f4-e105-4d93-e8fd-694cd16535c7"
      },
      "execution_count": null,
      "outputs": [
        {
          "output_type": "execute_result",
          "data": {
            "text/plain": [
              "(array(['1', '4', '10'], dtype='<U2'),\n",
              " array(['1', '4', '10', '20', '30', '34'], dtype='<U2'))"
            ]
          },
          "metadata": {},
          "execution_count": 23
        }
      ]
    },
    {
      "cell_type": "code",
      "source": [
        "#in between indexes\n",
        "array[3:5] # exclude the 5th"
      ],
      "metadata": {
        "colab": {
          "base_uri": "https://localhost:8080/"
        },
        "id": "EiH3g44xAv7L",
        "outputId": "3df37ae7-07ff-4ddd-8974-93873ae3a437"
      },
      "execution_count": null,
      "outputs": [
        {
          "output_type": "execute_result",
          "data": {
            "text/plain": [
              "array(['20', '30'], dtype='<U2')"
            ]
          },
          "metadata": {},
          "execution_count": 24
        }
      ]
    },
    {
      "cell_type": "code",
      "source": [
        "#negative indexes\n",
        "array[2:-2]"
      ],
      "metadata": {
        "colab": {
          "base_uri": "https://localhost:8080/"
        },
        "id": "ytn0qRGGBAox",
        "outputId": "c7b4190e-ef60-43b2-b08f-811fc5cf996b"
      },
      "execution_count": null,
      "outputs": [
        {
          "output_type": "execute_result",
          "data": {
            "text/plain": [
              "array(['10', '20'], dtype='<U2')"
            ]
          },
          "metadata": {},
          "execution_count": 25
        }
      ]
    },
    {
      "cell_type": "code",
      "source": [
        "array[0:-1] ,  array"
      ],
      "metadata": {
        "colab": {
          "base_uri": "https://localhost:8080/"
        },
        "id": "kaHOmsSJBNST",
        "outputId": "524f4fe6-dd40-46b4-a3db-1fd0f3b353ac"
      },
      "execution_count": null,
      "outputs": [
        {
          "output_type": "execute_result",
          "data": {
            "text/plain": [
              "(array(['1', '4', '10', '20', '30'], dtype='<U2'),\n",
              " array(['1', '4', '10', '20', '30', '34'], dtype='<U2'))"
            ]
          },
          "metadata": {},
          "execution_count": 26
        }
      ]
    },
    {
      "cell_type": "code",
      "source": [
        "array[2:5] , array[2:5:2] # jump"
      ],
      "metadata": {
        "colab": {
          "base_uri": "https://localhost:8080/"
        },
        "id": "jW7qfc2DBW9f",
        "outputId": "f40bc0c5-4e37-4c0d-d21e-870b3bc20c17"
      },
      "execution_count": null,
      "outputs": [
        {
          "output_type": "execute_result",
          "data": {
            "text/plain": [
              "(array(['10', '20', '30'], dtype='<U2'), array(['10', '30'], dtype='<U2'))"
            ]
          },
          "metadata": {},
          "execution_count": 27
        }
      ]
    },
    {
      "cell_type": "code",
      "source": [
        "#Lets reverse an array\n",
        "reverse_array = array[::-1]\n",
        "reverse_array"
      ],
      "metadata": {
        "colab": {
          "base_uri": "https://localhost:8080/"
        },
        "id": "tDxd047BBuus",
        "outputId": "b9f7d6a4-0539-4913-f1b9-730c6a02ac4a"
      },
      "execution_count": null,
      "outputs": [
        {
          "output_type": "execute_result",
          "data": {
            "text/plain": [
              "array(['34', '30', '20', '10', '4', '1'], dtype='<U2')"
            ]
          },
          "metadata": {},
          "execution_count": 28
        }
      ]
    },
    {
      "cell_type": "markdown",
      "source": [
        "## Sorting"
      ],
      "metadata": {
        "id": "QK4KBE54Ca3x"
      }
    },
    {
      "cell_type": "code",
      "source": [
        "#2 ways to sort things in numpy\n",
        "array = np.array([3, 45, 1 , 50 , 20])"
      ],
      "metadata": {
        "id": "QR9LtXWRCcwu"
      },
      "execution_count": null,
      "outputs": []
    },
    {
      "cell_type": "code",
      "source": [
        "# 1 sort in place\n",
        "array.sort()\n",
        "array"
      ],
      "metadata": {
        "colab": {
          "base_uri": "https://localhost:8080/"
        },
        "id": "zazmUc2tCg7L",
        "outputId": "b482d29c-851f-4727-b384-07526682fc87"
      },
      "execution_count": null,
      "outputs": [
        {
          "output_type": "execute_result",
          "data": {
            "text/plain": [
              "array([ 1,  3, 20, 45, 50])"
            ]
          },
          "metadata": {},
          "execution_count": 30
        }
      ]
    },
    {
      "cell_type": "code",
      "source": [
        "# 2 np.sort funct =>Return a sorted array\n",
        "array = np.array([3, 45, 1 , 50 , 20])\n",
        "np.sort(array , kind=\"heapsort\") , array"
      ],
      "metadata": {
        "colab": {
          "base_uri": "https://localhost:8080/"
        },
        "id": "JNsLJSyBDDOT",
        "outputId": "d109f9fe-8016-49a8-ba3a-f3abf738c8ea"
      },
      "execution_count": null,
      "outputs": [
        {
          "output_type": "execute_result",
          "data": {
            "text/plain": [
              "(array([ 1,  3, 20, 45, 50]), array([ 3, 45,  1, 50, 20]))"
            ]
          },
          "metadata": {},
          "execution_count": 31
        }
      ]
    },
    {
      "cell_type": "markdown",
      "source": [
        "## Copies vs Views"
      ],
      "metadata": {
        "id": "WUsar-DfEsEa"
      }
    },
    {
      "cell_type": "code",
      "source": [
        "#Reverse an array\n",
        "array = np.array([3, 45, 1 , 50 , 20])\n",
        "reverse_array = array[::-1]\n",
        "reverse_array[0] = 100\n",
        "reverse_array , array  #==>Slicing is creating a view"
      ],
      "metadata": {
        "colab": {
          "base_uri": "https://localhost:8080/"
        },
        "id": "UEBXmd4sEwn5",
        "outputId": "7761778b-f041-4c57-adcd-7e4c459c3a50"
      },
      "execution_count": null,
      "outputs": [
        {
          "output_type": "execute_result",
          "data": {
            "text/plain": [
              "(array([100,  50,   1,  45,   3]), array([  3,  45,   1,  50, 100]))"
            ]
          },
          "metadata": {},
          "execution_count": 32
        }
      ]
    },
    {
      "cell_type": "code",
      "source": [
        "#Make array positive\n",
        "array = np.array([-23, 45, 1 , 50 , 20])\n",
        "positive_array = np.abs(array) \n",
        "positive_array[0] =200\n",
        "positive_array , array #=>It hasnt affected the original one ==>nb.abs created a copy"
      ],
      "metadata": {
        "colab": {
          "base_uri": "https://localhost:8080/"
        },
        "id": "Oh-7VsmSE8_v",
        "outputId": "59e63c19-dde0-4470-e527-d7eb8b6bf13a"
      },
      "execution_count": null,
      "outputs": [
        {
          "output_type": "execute_result",
          "data": {
            "text/plain": [
              "(array([200,  45,   1,  50,  20]), array([-23,  45,   1,  50,  20]))"
            ]
          },
          "metadata": {},
          "execution_count": 33
        }
      ]
    },
    {
      "cell_type": "markdown",
      "source": [
        "## Aggregate function  "
      ],
      "metadata": {
        "id": "3JfIJL6IGE2v"
      }
    },
    {
      "cell_type": "code",
      "source": [
        "array = np.array([-23, 45, 1 , 50 , 20])\n",
        "#all the fntc that an array does has \n",
        "#print(dir(array))\n",
        "sum_of_array = np.sum(array)\n",
        "sum_of_array"
      ],
      "metadata": {
        "colab": {
          "base_uri": "https://localhost:8080/"
        },
        "id": "7sq2soWUGKiR",
        "outputId": "73b93995-aa36-4dc3-b258-24975625dc7d"
      },
      "execution_count": null,
      "outputs": [
        {
          "output_type": "execute_result",
          "data": {
            "text/plain": [
              "93"
            ]
          },
          "metadata": {},
          "execution_count": 34
        }
      ]
    },
    {
      "cell_type": "code",
      "source": [
        "mean_of_array = np.mean(array)\n",
        "mean_of_array"
      ],
      "metadata": {
        "colab": {
          "base_uri": "https://localhost:8080/"
        },
        "id": "1QQvXUWvG0Nm",
        "outputId": "d6613713-93cd-4230-b4da-72588387febf"
      },
      "execution_count": null,
      "outputs": [
        {
          "output_type": "execute_result",
          "data": {
            "text/plain": [
              "18.6"
            ]
          },
          "metadata": {},
          "execution_count": 35
        }
      ]
    },
    {
      "cell_type": "code",
      "source": [
        "product_of_array = np.prod(array)\n",
        "product_of_array"
      ],
      "metadata": {
        "colab": {
          "base_uri": "https://localhost:8080/"
        },
        "id": "3COtPwX3Gyfd",
        "outputId": "115ca2b6-7fb9-49d7-8d19-14140e33a516"
      },
      "execution_count": null,
      "outputs": [
        {
          "output_type": "execute_result",
          "data": {
            "text/plain": [
              "-1035000"
            ]
          },
          "metadata": {},
          "execution_count": 36
        }
      ]
    },
    {
      "cell_type": "code",
      "source": [
        "#Find max and min\n",
        "np.max(array), np.min(array)"
      ],
      "metadata": {
        "colab": {
          "base_uri": "https://localhost:8080/"
        },
        "id": "uVnyKSc2HbXl",
        "outputId": "f4e0ddee-dfe2-4e63-e9d0-6dc584fbec7f"
      },
      "execution_count": null,
      "outputs": [
        {
          "output_type": "execute_result",
          "data": {
            "text/plain": [
              "(50, -23)"
            ]
          },
          "metadata": {},
          "execution_count": 37
        }
      ]
    },
    {
      "cell_type": "code",
      "source": [
        "#Argmax and Argmin fnct ==>max &min index\n",
        "np.argmax(array), np.argmin(array)"
      ],
      "metadata": {
        "colab": {
          "base_uri": "https://localhost:8080/"
        },
        "id": "_1bQe-U6Hpkk",
        "outputId": "0d43d1bc-1ad7-4c3c-fd13-a76082cbd382"
      },
      "execution_count": null,
      "outputs": [
        {
          "output_type": "execute_result",
          "data": {
            "text/plain": [
              "(3, 0)"
            ]
          },
          "metadata": {},
          "execution_count": 38
        }
      ]
    }
  ]
}