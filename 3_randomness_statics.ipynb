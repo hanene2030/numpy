{
  "nbformat": 4,
  "nbformat_minor": 0,
  "metadata": {
    "colab": {
      "name": "3-randomness-statics.ipynb",
      "provenance": [],
      "toc_visible": true,
      "authorship_tag": "ABX9TyOH2e4nf6FIYmY2OPUuVqjW",
      "include_colab_link": true
    },
    "kernelspec": {
      "name": "python3",
      "display_name": "Python 3"
    },
    "language_info": {
      "name": "python"
    }
  },
  "cells": [
    {
      "cell_type": "markdown",
      "metadata": {
        "id": "view-in-github",
        "colab_type": "text"
      },
      "source": [
        "<a href=\"https://colab.research.google.com/github/hanene2030/numpy/blob/main/3_randomness_statics.ipynb\" target=\"_parent\"><img src=\"https://colab.research.google.com/assets/colab-badge.svg\" alt=\"Open In Colab\"/></a>"
      ]
    },
    {
      "cell_type": "markdown",
      "source": [
        "# Randomness & statistics\n"
      ],
      "metadata": {
        "id": "IGZxWs65j5d6"
      }
    },
    {
      "cell_type": "code",
      "source": [
        "from numpy import random as rd\n",
        "#initiate generator object\n",
        "rng = rd.default_rng(45)\n",
        "type(rng)"
      ],
      "metadata": {
        "colab": {
          "base_uri": "https://localhost:8080/"
        },
        "id": "L_Mp1VAKj_Sn",
        "outputId": "f170ca48-53a8-4069-83ab-68e671cb5fa5"
      },
      "execution_count": null,
      "outputs": [
        {
          "output_type": "execute_result",
          "data": {
            "text/plain": [
              "numpy.random._generator.Generator"
            ]
          },
          "metadata": {},
          "execution_count": 16
        }
      ]
    },
    {
      "cell_type": "code",
      "execution_count": null,
      "metadata": {
        "colab": {
          "base_uri": "https://localhost:8080/"
        },
        "id": "I5lldxbyjzF_",
        "outputId": "6c320939-8ea6-4e04-efb1-97e0285829eb"
      },
      "outputs": [
        {
          "output_type": "execute_result",
          "data": {
            "text/plain": [
              "array([ 5,  6,  9,  9,  1,  7, 10,  5,  6, 10])"
            ]
          },
          "metadata": {},
          "execution_count": 19
        }
      ],
      "source": [
        "rng.integers(0,10, size=10, endpoint=True)"
      ]
    },
    {
      "cell_type": "code",
      "source": [
        "#Random bits\n",
        "rng.integers(2, size=10)"
      ],
      "metadata": {
        "colab": {
          "base_uri": "https://localhost:8080/"
        },
        "id": "Rp0l6GNCldS0",
        "outputId": "8f537b8a-0c38-4f6d-d7ba-3aeda618fe64"
      },
      "execution_count": null,
      "outputs": [
        {
          "output_type": "execute_result",
          "data": {
            "text/plain": [
              "array([0, 1, 1, 1, 1, 1, 0, 0, 1, 1])"
            ]
          },
          "metadata": {},
          "execution_count": 18
        }
      ]
    },
    {
      "cell_type": "markdown",
      "source": [
        "# Random, shuffle and choice"
      ],
      "metadata": {
        "id": "a84YZtWOy_px"
      }
    },
    {
      "cell_type": "code",
      "source": [
        ""
      ],
      "metadata": {
        "id": "uy9OGzgF-REc"
      },
      "execution_count": null,
      "outputs": []
    },
    {
      "cell_type": "code",
      "source": [
        "#random floats between 0 and 1\n",
        "uniform_floats = rng.random(40)\n",
        "uniform_floats"
      ],
      "metadata": {
        "colab": {
          "base_uri": "https://localhost:8080/"
        },
        "id": "-ZR6_f8bzLfF",
        "outputId": "4ddd536f-7f23-4cf5-9e71-9a1f3def5eae"
      },
      "execution_count": null,
      "outputs": [
        {
          "output_type": "execute_result",
          "data": {
            "text/plain": [
              "array([0.46875421, 0.81110597, 0.86527687, 0.62984293, 0.04691164,\n",
              "       0.05488732, 0.11987991, 0.70230947, 0.04407558, 0.70020679,\n",
              "       0.41987544, 0.36937176, 0.15392513, 0.10637131, 0.12538958,\n",
              "       0.77781029, 0.17457598, 0.70972706, 0.70187593, 0.52288662,\n",
              "       0.96039636, 0.37332631, 0.03544243, 0.49541208, 0.20252996,\n",
              "       0.12433076, 0.99249316, 0.35843622, 0.69219624, 0.21031986,\n",
              "       0.01357028, 0.97476106, 0.72331673, 0.70715292, 0.81841075,\n",
              "       0.31913025, 0.43630687, 0.3749385 , 0.87428895, 0.31598702])"
            ]
          },
          "metadata": {},
          "execution_count": 20
        }
      ]
    },
    {
      "cell_type": "code",
      "source": [
        "# Draw randomness\n",
        "import matplotlib.pyplot as plt\n",
        "x = rng.random(300)\n",
        "y = rng.random(300)\n",
        "plt.scatter(x,y);"
      ],
      "metadata": {
        "colab": {
          "base_uri": "https://localhost:8080/",
          "height": 265
        },
        "id": "d4QZob1MzG8o",
        "outputId": "ea72d5ef-ef78-4eb2-8e22-e0bb157ae68f"
      },
      "execution_count": null,
      "outputs": [
        {
          "output_type": "display_data",
          "data": {
            "text/plain": [
              "<Figure size 432x288 with 1 Axes>"
            ],
            "image/png": "[encoded data removed]"
          },
          "metadata": {
            "needs_background": "light"
          }
        }
      ]
    },
    {
      "cell_type": "code",
      "source": [
        "#shuffle & choice\n",
        "import numpy as np\n",
        "array = np.array([5, 7, 1, 2, 4, 9])\n",
        "rng.shuffle(array)\n",
        "# If you have a model and you have a lot of data and you want to shuffle \n",
        "#your data before sending into your model, sort of the data does not depend on the way you collected it\n",
        "array"
      ],
      "metadata": {
        "colab": {
          "base_uri": "https://localhost:8080/"
        },
        "id": "mMRsLXp00Bu3",
        "outputId": "c785aec4-346e-40cc-9331-71d2fd24b91a"
      },
      "execution_count": null,
      "outputs": [
        {
          "output_type": "execute_result",
          "data": {
            "text/plain": [
              "array([2, 7, 1, 9, 4, 5])"
            ]
          },
          "metadata": {},
          "execution_count": 27
        }
      ]
    },
    {
      "cell_type": "code",
      "source": [
        "four_elt = rng.choice(array, size=4)\n",
        "four_elt\n",
        "#With replacement"
      ],
      "metadata": {
        "colab": {
          "base_uri": "https://localhost:8080/"
        },
        "id": "bFgbAoGx052t",
        "outputId": "a0ffae0f-69de-4a64-cc52-d0dea67334ad"
      },
      "execution_count": null,
      "outputs": [
        {
          "output_type": "execute_result",
          "data": {
            "text/plain": [
              "array([1, 4, 5, 9])"
            ]
          },
          "metadata": {},
          "execution_count": 31
        }
      ]
    },
    {
      "cell_type": "code",
      "source": [
        "four_elt = rng.choice(array, size=4, replace=False)\n",
        "four_elt"
      ],
      "metadata": {
        "colab": {
          "base_uri": "https://localhost:8080/"
        },
        "id": "W5pX-FDN1s0I",
        "outputId": "03706777-2fad-404c-8ad7-e5129bb61dbd"
      },
      "execution_count": null,
      "outputs": [
        {
          "output_type": "execute_result",
          "data": {
            "text/plain": [
              "array([4, 9, 2, 7])"
            ]
          },
          "metadata": {},
          "execution_count": 32
        }
      ]
    },
    {
      "cell_type": "markdown",
      "source": [
        "#Normal distribution and more"
      ],
      "metadata": {
        "id": "QybFfWAt2vqK"
      }
    },
    {
      "cell_type": "code",
      "source": [
        "heights = rng.normal(1.75, 0.15, size=1000)\n",
        "#heights"
      ],
      "metadata": {
        "id": "Uapzjx1r2yTJ"
      },
      "execution_count": null,
      "outputs": []
    },
    {
      "cell_type": "code",
      "source": [
        "# Drawing a histogram of normaly distributed variables\n",
        "\n",
        "plt.hist(heights)\n",
        "plt.title(\"Normal distribution\");"
      ],
      "metadata": {
        "colab": {
          "base_uri": "https://localhost:8080/",
          "height": 281
        },
        "id": "YxoNqSNC3u4K",
        "outputId": "8adf63d0-efc5-4bec-80ad-dfce0c6a7d48"
      },
      "execution_count": null,
      "outputs": [
        {
          "output_type": "display_data",
          "data": {
            "text/plain": [
              "<Figure size 432x288 with 1 Axes>"
            ],
            "image/png": "[encoded data removed]"
          },
          "metadata": {
            "needs_background": "light"
          }
        }
      ]
    },
    {
      "cell_type": "code",
      "source": [
        "# https://numpy.org/doc/stable/reference/random/generator.html"
      ],
      "metadata": {
        "id": "oU5FOHau5XZp"
      },
      "execution_count": null,
      "outputs": []
    },
    {
      "cell_type": "markdown",
      "source": [
        "#Basic statistics"
      ],
      "metadata": {
        "id": "iLKeLER-7xLV"
      }
    },
    {
      "cell_type": "code",
      "source": [
        "array = np.array([1,2,10,40])\n",
        "np.mean(array)"
      ],
      "metadata": {
        "colab": {
          "base_uri": "https://localhost:8080/"
        },
        "id": "CK4WkUEW70SF",
        "outputId": "30abdf9d-600a-4ad5-d6b0-4e386dfef5aa"
      },
      "execution_count": null,
      "outputs": [
        {
          "output_type": "execute_result",
          "data": {
            "text/plain": [
              "13.25"
            ]
          },
          "metadata": {},
          "execution_count": 64
        }
      ]
    },
    {
      "cell_type": "code",
      "source": [
        "#Standard deviation\n",
        "np.std(array) # used with rng.normal"
      ],
      "metadata": {
        "colab": {
          "base_uri": "https://localhost:8080/"
        },
        "id": "f32cz0Ju7y_M",
        "outputId": "be2fec07-ae4d-4981-e295-6133e85ce569"
      },
      "execution_count": null,
      "outputs": [
        {
          "output_type": "execute_result",
          "data": {
            "text/plain": [
              "15.833114033569013"
            ]
          },
          "metadata": {},
          "execution_count": 65
        }
      ]
    },
    {
      "cell_type": "code",
      "source": [
        "# variance /square of std  deviation\n",
        "np.var(array), np.std(array)**2"
      ],
      "metadata": {
        "colab": {
          "base_uri": "https://localhost:8080/"
        },
        "id": "ARJAUDKq8OmK",
        "outputId": "729f2c4d-8cc4-4666-b482-47a492e2130b"
      },
      "execution_count": null,
      "outputs": [
        {
          "output_type": "execute_result",
          "data": {
            "text/plain": [
              "(250.6875, 250.6875)"
            ]
          },
          "metadata": {},
          "execution_count": 66
        }
      ]
    },
    {
      "cell_type": "code",
      "source": [
        "#The median is the middle observtion\n",
        "np.median(array)"
      ],
      "metadata": {
        "colab": {
          "base_uri": "https://localhost:8080/"
        },
        "id": "pB2jjk9n8ok-",
        "outputId": "1a61ad80-8399-41a4-b90f-a5f9f16e7490"
      },
      "execution_count": null,
      "outputs": [
        {
          "output_type": "execute_result",
          "data": {
            "text/plain": [
              "6.0"
            ]
          },
          "metadata": {},
          "execution_count": 67
        }
      ]
    },
    {
      "cell_type": "code",
      "source": [
        "#The mean/ average\n",
        "np.mean(array) "
      ],
      "metadata": {
        "colab": {
          "base_uri": "https://localhost:8080/"
        },
        "id": "67smbnwj863i",
        "outputId": "fd0b7d77-e85b-4d87-94a5-1f20309092b9"
      },
      "execution_count": null,
      "outputs": [
        {
          "output_type": "execute_result",
          "data": {
            "text/plain": [
              "13.25"
            ]
          },
          "metadata": {},
          "execution_count": 68
        }
      ]
    },
    {
      "cell_type": "markdown",
      "source": [
        "# Finding unique values"
      ],
      "metadata": {
        "id": "EMMaIJ7C-KUC"
      }
    },
    {
      "cell_type": "code",
      "source": [
        "array = np.array([4,4,8,8,15,23,23,23,42,42,42,42])\n",
        "np.unique(array)"
      ],
      "metadata": {
        "colab": {
          "base_uri": "https://localhost:8080/"
        },
        "id": "rZSl34tF-Sv9",
        "outputId": "02e74062-a1cd-47e6-8ecd-669e9534a753"
      },
      "execution_count": null,
      "outputs": [
        {
          "output_type": "execute_result",
          "data": {
            "text/plain": [
              "array([ 4,  8, 15, 23, 42])"
            ]
          },
          "metadata": {},
          "execution_count": 70
        }
      ]
    },
    {
      "cell_type": "code",
      "source": [
        "uv, counts = np.unique(array, return_counts=True)"
      ],
      "metadata": {
        "id": "hTUjSYh--ksw"
      },
      "execution_count": null,
      "outputs": []
    },
    {
      "cell_type": "code",
      "source": [
        "plt.bar(uv,counts);"
      ],
      "metadata": {
        "colab": {
          "base_uri": "https://localhost:8080/",
          "height": 265
        },
        "id": "q8COEc83-wMy",
        "outputId": "3967792f-6437-4f7c-d68c-16ab8ad45575"
      },
      "execution_count": null,
      "outputs": [
        {
          "output_type": "display_data",
          "data": {
            "text/plain": [
              "<Figure size 432x288 with 1 Axes>"
            ],
            "image/png": "[encoded data removed]"
          },
          "metadata": {
            "needs_background": "light"
          }
        }
      ]
    }
  ]
}