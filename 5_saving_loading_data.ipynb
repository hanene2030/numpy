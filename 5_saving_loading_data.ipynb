{
  "nbformat": 4,
  "nbformat_minor": 0,
  "metadata": {
    "colab": {
      "name": "5-saving-loading-data.ipynb",
      "provenance": [],
      "authorship_tag": "ABX9TyMa5yBS/nbvleVOnGBi+7yl",
      "include_colab_link": true
    },
    "kernelspec": {
      "name": "python3",
      "display_name": "Python 3"
    },
    "language_info": {
      "name": "python"
    }
  },
  "cells": [
    {
      "cell_type": "markdown",
      "metadata": {
        "id": "view-in-github",
        "colab_type": "text"
      },
      "source": [
        "<a href=\"https://colab.research.google.com/github/hanene2030/numpy/blob/main/5_saving_loading_data.ipynb\" target=\"_parent\"><img src=\"https://colab.research.google.com/assets/colab-badge.svg\" alt=\"Open In Colab\"/></a>"
      ]
    },
    {
      "cell_type": "markdown",
      "source": [
        "# Saving & Loading data"
      ],
      "metadata": {
        "id": "kmURyTQzz3q6"
      }
    },
    {
      "cell_type": "code",
      "source": [
        "import numpy as np\n",
        "\n"
      ],
      "metadata": {
        "id": "l8fh_u24z6Y1"
      },
      "execution_count": null,
      "outputs": []
    },
    {
      "cell_type": "code",
      "source": [
        "data = np.loadtxt(\"data.txt\", delimiter=\",\")"
      ],
      "metadata": {
        "id": "9XkiUS020INT"
      },
      "execution_count": null,
      "outputs": []
    },
    {
      "cell_type": "code",
      "source": [
        "data.mean()"
      ],
      "metadata": {
        "colab": {
          "base_uri": "https://localhost:8080/"
        },
        "id": "1qBoiEvQ0FlP",
        "outputId": "63087aef-ffff-4f1e-97a2-92e33a2e0f3b"
      },
      "execution_count": null,
      "outputs": [
        {
          "output_type": "execute_result",
          "data": {
            "text/plain": [
              "14.615384615384615"
            ]
          },
          "metadata": {},
          "execution_count": 3
        }
      ]
    },
    {
      "cell_type": "code",
      "source": [
        "data2 = np.loadtxt(\"data.csv\", delimiter=\",\")\n",
        "data2\n"
      ],
      "metadata": {
        "colab": {
          "base_uri": "https://localhost:8080/"
        },
        "id": "XS9qS4b_2G_i",
        "outputId": "7f6a9f7b-aa8f-4862-f93e-37a790e2013a"
      },
      "execution_count": null,
      "outputs": [
        {
          "output_type": "execute_result",
          "data": {
            "text/plain": [
              "array([[ 1.,  2.,  3.,  4.,  5.],\n",
              "       [nan, 45., 56.,  1., 40.],\n",
              "       [ 0., 45., 56., 21., 40.],\n",
              "       [ 2., 45., 56., 11., 67.],\n",
              "       [23.,  5., 56., 31., 34.],\n",
              "       [67., 45., nan, 49., 42.],\n",
              "       [ 3., 45., 45., 50.,  0.]])"
            ]
          },
          "metadata": {},
          "execution_count": 4
        }
      ]
    },
    {
      "cell_type": "code",
      "source": [
        "np.isnan(data2).any()"
      ],
      "metadata": {
        "colab": {
          "base_uri": "https://localhost:8080/"
        },
        "id": "BgcUKD7u2-0p",
        "outputId": "1c25e8c0-1399-4729-e3a6-fa25f0de9f53"
      },
      "execution_count": null,
      "outputs": [
        {
          "output_type": "execute_result",
          "data": {
            "text/plain": [
              "True"
            ]
          },
          "metadata": {},
          "execution_count": 5
        }
      ]
    },
    {
      "cell_type": "markdown",
      "source": [
        "## Save the data"
      ],
      "metadata": {
        "id": "5KLqAY9Z3PgL"
      }
    },
    {
      "cell_type": "code",
      "source": [
        "total_mean =  np.around(np.nanmean(data2))\n",
        "total_mean"
      ],
      "metadata": {
        "colab": {
          "base_uri": "https://localhost:8080/"
        },
        "id": "_9-ngAjA3RPa",
        "outputId": "c50e33bc-693f-4a6c-cdc1-647a51b1fb8a"
      },
      "execution_count": null,
      "outputs": [
        {
          "output_type": "execute_result",
          "data": {
            "text/plain": [
              "30.0"
            ]
          },
          "metadata": {},
          "execution_count": 6
        }
      ]
    },
    {
      "cell_type": "code",
      "source": [
        "np.nan_to_num(data2, copy=False,nan=total_mean)"
      ],
      "metadata": {
        "colab": {
          "base_uri": "https://localhost:8080/"
        },
        "id": "NRnu3x043KUZ",
        "outputId": "2357b29f-d412-4eca-b17a-93da8b19fbe9"
      },
      "execution_count": null,
      "outputs": [
        {
          "output_type": "execute_result",
          "data": {
            "text/plain": [
              "array([[ 1.,  2.,  3.,  4.,  5.],\n",
              "       [30., 45., 56.,  1., 40.],\n",
              "       [ 0., 45., 56., 21., 40.],\n",
              "       [ 2., 45., 56., 11., 67.],\n",
              "       [23.,  5., 56., 31., 34.],\n",
              "       [67., 45., 30., 49., 42.],\n",
              "       [ 3., 45., 45., 50.,  0.]])"
            ]
          },
          "metadata": {},
          "execution_count": 7
        }
      ]
    },
    {
      "cell_type": "code",
      "source": [
        "data2"
      ],
      "metadata": {
        "colab": {
          "base_uri": "https://localhost:8080/"
        },
        "id": "Vy8I6RDV3ybE",
        "outputId": "c44f790f-b46c-426d-c26e-a374b78b9bab"
      },
      "execution_count": null,
      "outputs": [
        {
          "output_type": "execute_result",
          "data": {
            "text/plain": [
              "array([[ 1.,  2.,  3.,  4.,  5.],\n",
              "       [30., 45., 56.,  1., 40.],\n",
              "       [ 0., 45., 56., 21., 40.],\n",
              "       [ 2., 45., 56., 11., 67.],\n",
              "       [23.,  5., 56., 31., 34.],\n",
              "       [67., 45., 30., 49., 42.],\n",
              "       [ 3., 45., 45., 50.,  0.]])"
            ]
          },
          "metadata": {},
          "execution_count": 8
        }
      ]
    },
    {
      "cell_type": "code",
      "source": [
        "np.savetxt(\"new_data.csv\", data2, delimiter=\",\", fmt=\"%.0f\", header=\"CSV data\")"
      ],
      "metadata": {
        "id": "5jNu2fZ14gfo"
      },
      "execution_count": null,
      "outputs": []
    },
    {
      "cell_type": "markdown",
      "source": [
        "## Load and save numpy object"
      ],
      "metadata": {
        "id": "ID_dfhTM5ot_"
      }
    },
    {
      "cell_type": "code",
      "source": [
        "#numpy object has .npy\n",
        "daily_mean = data2.mean(axis=0)\n",
        "\n",
        "daily_mean"
      ],
      "metadata": {
        "colab": {
          "base_uri": "https://localhost:8080/"
        },
        "id": "ot4dQqeg5rHb",
        "outputId": "879ca184-118f-491f-caad-9b06d78e0048"
      },
      "execution_count": null,
      "outputs": [
        {
          "output_type": "execute_result",
          "data": {
            "text/plain": [
              "array([18.        , 33.14285714, 43.14285714, 23.85714286, 32.57142857])"
            ]
          },
          "metadata": {},
          "execution_count": 10
        }
      ]
    },
    {
      "cell_type": "code",
      "source": [
        "np.save(\"daily_mean\", daily_mean)"
      ],
      "metadata": {
        "id": "Jo8B45t-6C9C"
      },
      "execution_count": null,
      "outputs": []
    },
    {
      "cell_type": "code",
      "source": [
        "np.load(\"daily_mean.npy\")"
      ],
      "metadata": {
        "id": "kBymuSTT5FMK",
        "colab": {
          "base_uri": "https://localhost:8080/"
        },
        "outputId": "03e8061f-26a4-4544-c554-cac416fe4165"
      },
      "execution_count": null,
      "outputs": [
        {
          "output_type": "execute_result",
          "data": {
            "text/plain": [
              "array([18.        , 33.14285714, 43.14285714, 23.85714286, 32.57142857])"
            ]
          },
          "metadata": {},
          "execution_count": 13
        }
      ]
    },
    {
      "cell_type": "code",
      "source": [
        "np.savez(\"full\", x=daily_mean, y=data2)"
      ],
      "metadata": {
        "id": "dXhxInlufiPO"
      },
      "execution_count": null,
      "outputs": []
    },
    {
      "cell_type": "code",
      "source": [
        " np.load(\"full.npz\").files\n"
      ],
      "metadata": {
        "colab": {
          "base_uri": "https://localhost:8080/"
        },
        "id": "WHrOG129fukS",
        "outputId": "c9297083-7781-4360-c8c4-d379c34b855a"
      },
      "execution_count": null,
      "outputs": [
        {
          "output_type": "execute_result",
          "data": {
            "text/plain": [
              "['x', 'y']"
            ]
          },
          "metadata": {},
          "execution_count": 25
        }
      ]
    },
    {
      "cell_type": "code",
      "source": [
        " np.load(\"full.npz\")[\"x\"], np.load(\"full.npz\")[\"y\"]"
      ],
      "metadata": {
        "colab": {
          "base_uri": "https://localhost:8080/"
        },
        "id": "X2AXePx5gUHw",
        "outputId": "987b9f28-caa8-4a91-ae6a-48a90d510122"
      },
      "execution_count": null,
      "outputs": [
        {
          "output_type": "execute_result",
          "data": {
            "text/plain": [
              "(array([18.        , 33.14285714, 43.14285714, 23.85714286, 32.57142857]),\n",
              " array([[ 1.,  2.,  3.,  4.,  5.],\n",
              "        [30., 45., 56.,  1., 40.],\n",
              "        [ 0., 45., 56., 21., 40.],\n",
              "        [ 2., 45., 56., 11., 67.],\n",
              "        [23.,  5., 56., 31., 34.],\n",
              "        [67., 45., 30., 49., 42.],\n",
              "        [ 3., 45., 45., 50.,  0.]]))"
            ]
          },
          "metadata": {},
          "execution_count": 26
        }
      ]
    }
  ]
}