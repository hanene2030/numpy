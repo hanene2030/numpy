{
  "nbformat": 4,
  "nbformat_minor": 0,
  "metadata": {
    "colab": {
      "name": "10-advanced-linear-algebra.ipynb",
      "provenance": [],
      "authorship_tag": "ABX9TyPes2HwtBi6YrKE1nyTIhej",
      "include_colab_link": true
    },
    "kernelspec": {
      "name": "python3",
      "display_name": "Python 3"
    },
    "language_info": {
      "name": "python"
    }
  },
  "cells": [
    {
      "cell_type": "markdown",
      "metadata": {
        "id": "view-in-github",
        "colab_type": "text"
      },
      "source": [
        "<a href=\"https://colab.research.google.com/github/hanene2030/numpy/blob/main/10_advanced_linear_algebra.ipynb\" target=\"_parent\"><img src=\"https://colab.research.google.com/assets/colab-badge.svg\" alt=\"Open In Colab\"/></a>"
      ]
    },
    {
      "cell_type": "markdown",
      "source": [
        "# Advanced linear"
      ],
      "metadata": {
        "id": "ukYlPPUmrqc5"
      }
    },
    {
      "cell_type": "code",
      "source": [
        "import numpy as np\n",
        "from numpy import linalg"
      ],
      "metadata": {
        "id": "0OoUCdT3rteO"
      },
      "execution_count": 1,
      "outputs": []
    },
    {
      "cell_type": "code",
      "source": [
        "#Finding eigenvalues and eigenvectors"
      ],
      "metadata": {
        "id": "fXCS8DqmsbDI"
      },
      "execution_count": 2,
      "outputs": []
    },
    {
      "cell_type": "code",
      "source": [
        "rng = np.random.default_rng()\n",
        "matrix = rng.random(9).reshape(3,3)\n",
        "matrix\n"
      ],
      "metadata": {
        "colab": {
          "base_uri": "https://localhost:8080/"
        },
        "id": "LoaY3qYesf-s",
        "outputId": "bfa8403e-bad1-4042-fc9a-0579a8d2cadf"
      },
      "execution_count": 4,
      "outputs": [
        {
          "output_type": "execute_result",
          "data": {
            "text/plain": [
              "array([[0.05472122, 0.1479933 , 0.24385678],\n",
              "       [0.15678262, 0.16136628, 0.5320602 ],\n",
              "       [0.65656018, 0.43678657, 0.94739909]])"
            ]
          },
          "metadata": {},
          "execution_count": 4
        }
      ]
    },
    {
      "cell_type": "code",
      "source": [
        "eigenvalues , eigenvectors = linalg.eig(matrix)\n",
        "#eigenvalue, eigenvector"
      ],
      "metadata": {
        "id": "WjgmbANrsrES"
      },
      "execution_count": 7,
      "outputs": []
    },
    {
      "cell_type": "code",
      "source": [
        "eigenvectors.shape"
      ],
      "metadata": {
        "colab": {
          "base_uri": "https://localhost:8080/"
        },
        "id": "DVSiqXFbs_WE",
        "outputId": "132ef54a-1140-4164-a232-f10f3369488f"
      },
      "execution_count": 10,
      "outputs": [
        {
          "output_type": "execute_result",
          "data": {
            "text/plain": [
              "(3, 3)"
            ]
          },
          "metadata": {},
          "execution_count": 10
        }
      ]
    },
    {
      "cell_type": "code",
      "source": [
        "eigenvalues.shape\n"
      ],
      "metadata": {
        "colab": {
          "base_uri": "https://localhost:8080/"
        },
        "id": "tVf8ybN5tBuq",
        "outputId": "38d71a6b-83f0-44b5-bb16-5f3b297b27ff"
      },
      "execution_count": 11,
      "outputs": [
        {
          "output_type": "execute_result",
          "data": {
            "text/plain": [
              "(3,)"
            ]
          },
          "metadata": {},
          "execution_count": 11
        }
      ]
    },
    {
      "cell_type": "code",
      "source": [
        "#determinant\n",
        "linalg.det(matrix)#Non zero =>the matrix is invertable"
      ],
      "metadata": {
        "colab": {
          "base_uri": "https://localhost:8080/"
        },
        "id": "CuZcy1sgtMFL",
        "outputId": "9e9997e1-cc0d-49dc-b49e-424d7e3e41d3"
      },
      "execution_count": 14,
      "outputs": [
        {
          "output_type": "execute_result",
          "data": {
            "text/plain": [
              "0.01622842235558521"
            ]
          },
          "metadata": {},
          "execution_count": 14
        }
      ]
    },
    {
      "cell_type": "code",
      "source": [
        "print(\"product of eigenvalues\" , np.prod(eigenvalues))"
      ],
      "metadata": {
        "colab": {
          "base_uri": "https://localhost:8080/"
        },
        "id": "PAis5WEjtyFT",
        "outputId": "8f4028f8-1330-4021-d301-662e7fc1d9cd"
      },
      "execution_count": 15,
      "outputs": [
        {
          "output_type": "stream",
          "name": "stdout",
          "text": [
            "product of eigenvalues (0.016228422355585238+0j)\n"
          ]
        }
      ]
    },
    {
      "cell_type": "markdown",
      "source": [
        "#Types of matrices"
      ],
      "metadata": {
        "id": "V0E23h5AuKns"
      }
    },
    {
      "cell_type": "code",
      "source": [
        "#Diagonal matrix if the only non-zero entries are on the diagonal\n",
        "D = np.array([[2,0],[0,5]])\n",
        "D\n"
      ],
      "metadata": {
        "colab": {
          "base_uri": "https://localhost:8080/"
        },
        "id": "g_W5v9b0uMSo",
        "outputId": "6c776d94-cd86-4c64-9b83-3af3f72a6c92"
      },
      "execution_count": 19,
      "outputs": [
        {
          "output_type": "execute_result",
          "data": {
            "text/plain": [
              "array([[2, 0],\n",
              "       [0, 5]])"
            ]
          },
          "metadata": {},
          "execution_count": 19
        }
      ]
    },
    {
      "cell_type": "code",
      "source": [
        "identity_matrix = np.eye(3)\n",
        "identity_matrix"
      ],
      "metadata": {
        "colab": {
          "base_uri": "https://localhost:8080/"
        },
        "id": "rTsnABh8uz9j",
        "outputId": "64728efc-8790-4006-8339-1d8c4fc19682"
      },
      "execution_count": 20,
      "outputs": [
        {
          "output_type": "execute_result",
          "data": {
            "text/plain": [
              "array([[1., 0., 0.],\n",
              "       [0., 1., 0.],\n",
              "       [0., 0., 1.]])"
            ]
          },
          "metadata": {},
          "execution_count": 20
        }
      ]
    },
    {
      "cell_type": "code",
      "source": [
        "np.diag([5 , 5 , 6 , 7])"
      ],
      "metadata": {
        "colab": {
          "base_uri": "https://localhost:8080/"
        },
        "id": "SBSQKgB5tr1m",
        "outputId": "09311b6e-763c-4b01-8252-df763aac007e"
      },
      "execution_count": 21,
      "outputs": [
        {
          "output_type": "execute_result",
          "data": {
            "text/plain": [
              "array([[5, 0, 0, 0],\n",
              "       [0, 5, 0, 0],\n",
              "       [0, 0, 6, 0],\n",
              "       [0, 0, 0, 7]])"
            ]
          },
          "metadata": {},
          "execution_count": 21
        }
      ]
    },
    {
      "cell_type": "code",
      "source": [
        "#Orthogonal matrix =>if the columns are orthogonal and each column have lengh one\n",
        "O = np.array([[1/(2 ** (1/2)), 1/(2 ** (1/2))],[1/(2 ** (1/2)) , -1/(2 ** (1/2))]])\n",
        "O"
      ],
      "metadata": {
        "colab": {
          "base_uri": "https://localhost:8080/"
        },
        "id": "_peZIBUxvJfz",
        "outputId": "722b5d62-ff24-4332-94ec-6982907c8334"
      },
      "execution_count": 24,
      "outputs": [
        {
          "output_type": "execute_result",
          "data": {
            "text/plain": [
              "array([[ 0.70710678,  0.70710678],\n",
              "       [ 0.70710678, -0.70710678]])"
            ]
          },
          "metadata": {},
          "execution_count": 24
        }
      ]
    },
    {
      "cell_type": "code",
      "source": [
        "#Check that O is orthogonal\n",
        "np.dot(O[:,0], O[:,1]) , linalg.norm(O[:,0]) , linalg.norm(O[:,1])"
      ],
      "metadata": {
        "colab": {
          "base_uri": "https://localhost:8080/"
        },
        "id": "lsMWqv6VvOX3",
        "outputId": "bb819a9e-e3e8-4b14-8035-4fc5e509d612"
      },
      "execution_count": 26,
      "outputs": [
        {
          "output_type": "execute_result",
          "data": {
            "text/plain": [
              "(0.0, 0.9999999999999999, 0.9999999999999999)"
            ]
          },
          "metadata": {},
          "execution_count": 26
        }
      ]
    },
    {
      "cell_type": "code",
      "source": [
        "# caluclate the inverse =>is the transpose in this case  =>always non zero determinant\n",
        "# x o = y => x = o^-1 y \n",
        "y = np.array([4, 5])\n",
        "x = O.transpose() @ y\n",
        "x\n",
        "\n"
      ],
      "metadata": {
        "colab": {
          "base_uri": "https://localhost:8080/"
        },
        "id": "GZwPWKLCtDZC",
        "outputId": "0e76196a-5f06-4261-e4e8-e04ad6eb8e20"
      },
      "execution_count": 27,
      "outputs": [
        {
          "output_type": "execute_result",
          "data": {
            "text/plain": [
              "array([ 6.36396103, -0.70710678])"
            ]
          },
          "metadata": {},
          "execution_count": 27
        }
      ]
    },
    {
      "cell_type": "code",
      "source": [
        "# Upper triangular matrices "
      ],
      "metadata": {
        "id": "Yg_mFhM4s5gp"
      },
      "execution_count": 28,
      "outputs": []
    },
    {
      "cell_type": "code",
      "source": [
        "R = np.array([[1 , 2], [0, 3]])\n",
        "R# all the entries belw the diagonal are zeros"
      ],
      "metadata": {
        "colab": {
          "base_uri": "https://localhost:8080/"
        },
        "id": "J7kfnafHxUB6",
        "outputId": "a7ebbba7-452d-4479-e701-5ca6479ce5a6"
      },
      "execution_count": 30,
      "outputs": [
        {
          "output_type": "execute_result",
          "data": {
            "text/plain": [
              "array([[1, 2],\n",
              "       [0, 3]])"
            ]
          },
          "metadata": {},
          "execution_count": 30
        }
      ]
    },
    {
      "cell_type": "code",
      "source": [
        "#The determinant in this case is easy to calculate => the product of the diag elements\n",
        "linalg.det(R)\n"
      ],
      "metadata": {
        "colab": {
          "base_uri": "https://localhost:8080/"
        },
        "id": "n9WpcESJxlFH",
        "outputId": "90f80e4d-85d5-4f37-d693-dff0928bbf1f"
      },
      "execution_count": 31,
      "outputs": [
        {
          "output_type": "execute_result",
          "data": {
            "text/plain": [
              "3.0000000000000004"
            ]
          },
          "metadata": {},
          "execution_count": 31
        }
      ]
    },
    {
      "cell_type": "code",
      "source": [
        "#Solving linear system is quick\n",
        "\n"
      ],
      "metadata": {
        "id": "vhuP7iVgx12b"
      },
      "execution_count": null,
      "outputs": []
    },
    {
      "cell_type": "code",
      "source": [
        "#QR decomposition =>Any matrix = QR (Q is orthogonal, R is uppare triangle)"
      ],
      "metadata": {
        "id": "3WOAkdXvxe9n"
      },
      "execution_count": 33,
      "outputs": []
    },
    {
      "cell_type": "code",
      "source": [
        "A = np.array([[1, 2], [3, 4]])"
      ],
      "metadata": {
        "id": "eF8pRrvQy8vA"
      },
      "execution_count": 34,
      "outputs": []
    },
    {
      "cell_type": "code",
      "source": [
        "q, r = linalg.qr(A)"
      ],
      "metadata": {
        "id": "hT96g6c_zGdK"
      },
      "execution_count": 36,
      "outputs": []
    },
    {
      "cell_type": "code",
      "source": [
        "q"
      ],
      "metadata": {
        "colab": {
          "base_uri": "https://localhost:8080/"
        },
        "id": "36mgMGVVzQaB",
        "outputId": "aadfe8ce-f162-46f3-d2d8-c2a2ed3baae7"
      },
      "execution_count": 37,
      "outputs": [
        {
          "output_type": "execute_result",
          "data": {
            "text/plain": [
              "array([[-0.31622777, -0.9486833 ],\n",
              "       [-0.9486833 ,  0.31622777]])"
            ]
          },
          "metadata": {},
          "execution_count": 37
        }
      ]
    },
    {
      "cell_type": "code",
      "source": [
        "r"
      ],
      "metadata": {
        "colab": {
          "base_uri": "https://localhost:8080/"
        },
        "id": "WHj_LxMbzQ9L",
        "outputId": "4f285f17-a946-450c-db98-033998072f5b"
      },
      "execution_count": 38,
      "outputs": [
        {
          "output_type": "execute_result",
          "data": {
            "text/plain": [
              "array([[-3.16227766, -4.42718872],\n",
              "       [ 0.        , -0.63245553]])"
            ]
          },
          "metadata": {},
          "execution_count": 38
        }
      ]
    },
    {
      "cell_type": "code",
      "source": [
        "np.dot(q[:,0], q[:,1]) , linalg.norm(q[:,0]) , linalg.norm(q[:,1])"
      ],
      "metadata": {
        "colab": {
          "base_uri": "https://localhost:8080/"
        },
        "id": "fcqvmNNEzRtG",
        "outputId": "67f51d03-b172-457c-c1db-02da6171e008"
      },
      "execution_count": 40,
      "outputs": [
        {
          "output_type": "execute_result",
          "data": {
            "text/plain": [
              "(0.0, 1.0, 1.0)"
            ]
          },
          "metadata": {},
          "execution_count": 40
        }
      ]
    },
    {
      "cell_type": "code",
      "source": [
        "q @ r"
      ],
      "metadata": {
        "colab": {
          "base_uri": "https://localhost:8080/"
        },
        "id": "JRJNpb5SziXm",
        "outputId": "4ae1be6c-4e53-47a5-b14e-24c0de9915db"
      },
      "execution_count": 41,
      "outputs": [
        {
          "output_type": "execute_result",
          "data": {
            "text/plain": [
              "array([[1., 2.],\n",
              "       [3., 4.]])"
            ]
          },
          "metadata": {},
          "execution_count": 41
        }
      ]
    },
    {
      "cell_type": "code",
      "source": [
        "# to compare matrices\n",
        "if np.allclose(A, q @ r):\n",
        "  print(\"Great work\")"
      ],
      "metadata": {
        "colab": {
          "base_uri": "https://localhost:8080/"
        },
        "id": "AMCQnVmHzoEk",
        "outputId": "ca826ac7-45f4-4fcd-a27e-ad1439c40aec"
      },
      "execution_count": 43,
      "outputs": [
        {
          "output_type": "stream",
          "name": "stdout",
          "text": [
            "Great work\n"
          ]
        }
      ]
    },
    {
      "cell_type": "code",
      "source": [
        "# A =QR is invertible when none of the entries on the diag of R is zero"
      ],
      "metadata": {
        "id": "SilOfCinz_WM"
      },
      "execution_count": 44,
      "outputs": []
    },
    {
      "cell_type": "markdown",
      "source": [
        "# When systems of equations are not solvable "
      ],
      "metadata": {
        "id": "WOz5P-Ah1Z0o"
      }
    },
    {
      "cell_type": "code",
      "source": [
        "A = np.array([[1, 1], [1, 1]])\n",
        "A"
      ],
      "metadata": {
        "colab": {
          "base_uri": "https://localhost:8080/"
        },
        "id": "JeNEWFTp1fZr",
        "outputId": "5e5ad27a-0560-4fbe-9c57-38b15ade6805"
      },
      "execution_count": 48,
      "outputs": [
        {
          "output_type": "execute_result",
          "data": {
            "text/plain": [
              "array([[1, 1],\n",
              "       [1, 1]])"
            ]
          },
          "metadata": {},
          "execution_count": 48
        }
      ]
    },
    {
      "cell_type": "code",
      "source": [
        "y = np.array([3, 5])"
      ],
      "metadata": {
        "id": "QTJ2aV0N1onk"
      },
      "execution_count": 49,
      "outputs": []
    },
    {
      "cell_type": "code",
      "source": [
        "#Solve Ax = y"
      ],
      "metadata": {
        "id": "sQJyVJ9g1s2O"
      },
      "execution_count": 50,
      "outputs": []
    },
    {
      "cell_type": "code",
      "source": [
        "#x = linalg.solve(A , y)"
      ],
      "metadata": {
        "id": "rH4c84Zo1vGJ"
      },
      "execution_count": 52,
      "outputs": []
    },
    {
      "cell_type": "code",
      "source": [
        "# How to failsafe the code\n",
        "from numpy.linalg import LinAlgError\n"
      ],
      "metadata": {
        "id": "fQFmCu3f198w"
      },
      "execution_count": 53,
      "outputs": []
    },
    {
      "cell_type": "code",
      "source": [
        "try:\n",
        "  x = linalg.solve(A , y)\n",
        "  if not np.allclose(A @ x , y):\n",
        "    raise LinAlgError\n",
        "  print(\"The solution is given by x = \", x)\n",
        "except LinAlgError:\n",
        "  print(\"The solution does not exist\")\n"
      ],
      "metadata": {
        "colab": {
          "base_uri": "https://localhost:8080/"
        },
        "id": "EW68wt_V2Lng",
        "outputId": "bf9f82ee-535b-4fb3-b20f-8ac1c7709e42"
      },
      "execution_count": 54,
      "outputs": [
        {
          "output_type": "stream",
          "name": "stdout",
          "text": [
            "The solution does not exist\n"
          ]
        }
      ]
    },
    {
      "cell_type": "code",
      "source": [
        "# if there is no x, we can find x that ax is close to y\n",
        "#least square\n",
        "res = linalg.lstsq(A, y, rcond=None)\n",
        "res"
      ],
      "metadata": {
        "colab": {
          "base_uri": "https://localhost:8080/"
        },
        "id": "9jpV2v5P2pVH",
        "outputId": "46540de3-c47f-4c93-fcf0-cb62d3e167cb"
      },
      "execution_count": 58,
      "outputs": [
        {
          "output_type": "execute_result",
          "data": {
            "text/plain": [
              "(array([2., 2.]), array([], dtype=float64), 1, array([2., 0.]))"
            ]
          },
          "metadata": {},
          "execution_count": 58
        }
      ]
    },
    {
      "cell_type": "code",
      "source": [
        "x = res[0]"
      ],
      "metadata": {
        "id": "fa2Fm2dC3S1S"
      },
      "execution_count": 59,
      "outputs": []
    },
    {
      "cell_type": "code",
      "source": [
        "print(\"The best solution \\n\", x)"
      ],
      "metadata": {
        "colab": {
          "base_uri": "https://localhost:8080/"
        },
        "id": "p_Y4B0a43ODT",
        "outputId": "86a7c1fb-91fa-4760-a609-0b6ebf1cac26"
      },
      "execution_count": 61,
      "outputs": [
        {
          "output_type": "stream",
          "name": "stdout",
          "text": [
            "The best solution \n",
            " [2. 2.]\n"
          ]
        }
      ]
    },
    {
      "cell_type": "code",
      "source": [
        "A @ x"
      ],
      "metadata": {
        "colab": {
          "base_uri": "https://localhost:8080/"
        },
        "id": "DnDOMVOT3fxU",
        "outputId": "2458a925-0b0d-4a50-fd86-1ec3d1212bc8"
      },
      "execution_count": 64,
      "outputs": [
        {
          "output_type": "execute_result",
          "data": {
            "text/plain": [
              "array([4., 4.])"
            ]
          },
          "metadata": {},
          "execution_count": 64
        }
      ]
    },
    {
      "cell_type": "code",
      "source": [
        "y"
      ],
      "metadata": {
        "colab": {
          "base_uri": "https://localhost:8080/"
        },
        "id": "lMHqkyE4so9G",
        "outputId": "87cb6917-e639-48a9-b2ea-0b0e9b2834b5"
      },
      "execution_count": 65,
      "outputs": [
        {
          "output_type": "execute_result",
          "data": {
            "text/plain": [
              "array([3, 5])"
            ]
          },
          "metadata": {},
          "execution_count": 65
        }
      ]
    }
  ]
}