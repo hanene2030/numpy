{
  "nbformat": 4,
  "nbformat_minor": 0,
  "metadata": {
    "colab": {
      "name": "4-making-modifying-matrices.ipynb",
      "provenance": [],
      "authorship_tag": "ABX9TyO2ipCmFRQ5DH/S34FqqPkG",
      "include_colab_link": true
    },
    "kernelspec": {
      "name": "python3",
      "display_name": "Python 3"
    },
    "language_info": {
      "name": "python"
    }
  },
  "cells": [
    {
      "cell_type": "markdown",
      "metadata": {
        "id": "view-in-github",
        "colab_type": "text"
      },
      "source": [
        "<a href=\"https://colab.research.google.com/github/hanene2030/numpy/blob/main/4_making_modifying_matrices.ipynb\" target=\"_parent\"><img src=\"https://colab.research.google.com/assets/colab-badge.svg\" alt=\"Open In Colab\"/></a>"
      ]
    },
    {
      "cell_type": "markdown",
      "source": [
        "# Making modifying matrices"
      ],
      "metadata": {
        "id": "ZI6XYOp1YiFz"
      }
    },
    {
      "cell_type": "code",
      "source": [
        "import numpy as np\n",
        "my_list = [[1,12,3],\n",
        "           [23,4,5],\n",
        "           [31,12,6]]"
      ],
      "metadata": {
        "id": "JaAQAXuzYm7O"
      },
      "execution_count": null,
      "outputs": []
    },
    {
      "cell_type": "code",
      "source": [
        "matrix = np.array(my_list)\n",
        "matrix"
      ],
      "metadata": {
        "colab": {
          "base_uri": "https://localhost:8080/"
        },
        "id": "YS3BQntWY0sg",
        "outputId": "03ac26be-ee5d-494c-d6a6-49d35470ac4e"
      },
      "execution_count": null,
      "outputs": [
        {
          "output_type": "execute_result",
          "data": {
            "text/plain": [
              "array([[ 1, 12,  3],\n",
              "       [23,  4,  5],\n",
              "       [31, 12,  6]])"
            ]
          },
          "metadata": {},
          "execution_count": 2
        }
      ]
    },
    {
      "cell_type": "code",
      "source": [
        "type(matrix)"
      ],
      "metadata": {
        "colab": {
          "base_uri": "https://localhost:8080/"
        },
        "id": "73GGDypObhlp",
        "outputId": "8640a44e-51e0-47cb-b596-e9897dbca7a5"
      },
      "execution_count": null,
      "outputs": [
        {
          "output_type": "execute_result",
          "data": {
            "text/plain": [
              "numpy.ndarray"
            ]
          },
          "metadata": {},
          "execution_count": 3
        }
      ]
    },
    {
      "cell_type": "code",
      "source": [
        "vector = np.arange(5)"
      ],
      "metadata": {
        "id": "PhGm0DfIbnYm"
      },
      "execution_count": null,
      "outputs": []
    },
    {
      "cell_type": "code",
      "source": [
        "list(vector)"
      ],
      "metadata": {
        "colab": {
          "base_uri": "https://localhost:8080/"
        },
        "id": "0ZtlGvZ3bxdN",
        "outputId": "e15bd018-66d4-4f31-9403-3ec9186798cf"
      },
      "execution_count": null,
      "outputs": [
        {
          "output_type": "execute_result",
          "data": {
            "text/plain": [
              "[0, 1, 2, 3, 4]"
            ]
          },
          "metadata": {},
          "execution_count": 5
        }
      ]
    },
    {
      "cell_type": "code",
      "source": [
        "list(matrix)"
      ],
      "metadata": {
        "colab": {
          "base_uri": "https://localhost:8080/"
        },
        "id": "JeaPiIcAb5ti",
        "outputId": "360d6c7b-e50c-4899-d683-b117f8407eee"
      },
      "execution_count": null,
      "outputs": [
        {
          "output_type": "execute_result",
          "data": {
            "text/plain": [
              "[array([ 1, 12,  3]), array([23,  4,  5]), array([31, 12,  6])]"
            ]
          },
          "metadata": {},
          "execution_count": 6
        }
      ]
    },
    {
      "cell_type": "code",
      "source": [
        "type(list(matrix))"
      ],
      "metadata": {
        "colab": {
          "base_uri": "https://localhost:8080/"
        },
        "id": "mFS8qrlHb9-_",
        "outputId": "c2a9dfef-f5c5-4380-98c6-13f4e443f244"
      },
      "execution_count": null,
      "outputs": [
        {
          "output_type": "execute_result",
          "data": {
            "text/plain": [
              "list"
            ]
          },
          "metadata": {},
          "execution_count": 7
        }
      ]
    },
    {
      "cell_type": "code",
      "source": [
        "matrix.tolist()"
      ],
      "metadata": {
        "colab": {
          "base_uri": "https://localhost:8080/"
        },
        "id": "9l89uehqcASP",
        "outputId": "af1f9a8d-be9e-4656-b58f-1f3d55adac75"
      },
      "execution_count": null,
      "outputs": [
        {
          "output_type": "execute_result",
          "data": {
            "text/plain": [
              "[[1, 12, 3], [23, 4, 5], [31, 12, 6]]"
            ]
          },
          "metadata": {},
          "execution_count": 8
        }
      ]
    },
    {
      "cell_type": "code",
      "source": [
        "vector.tolist()"
      ],
      "metadata": {
        "colab": {
          "base_uri": "https://localhost:8080/"
        },
        "id": "V_EPnjDzcPTr",
        "outputId": "6110aeb4-bf65-4164-e155-23883b5b1ad0"
      },
      "execution_count": null,
      "outputs": [
        {
          "output_type": "execute_result",
          "data": {
            "text/plain": [
              "[0, 1, 2, 3, 4]"
            ]
          },
          "metadata": {},
          "execution_count": 9
        }
      ]
    },
    {
      "cell_type": "code",
      "source": [
        "matrix\n"
      ],
      "metadata": {
        "colab": {
          "base_uri": "https://localhost:8080/"
        },
        "id": "YtJvH6rFcUC3",
        "outputId": "90fcdce2-8f04-430e-d749-ab585c202bf6"
      },
      "execution_count": null,
      "outputs": [
        {
          "output_type": "execute_result",
          "data": {
            "text/plain": [
              "array([[ 1, 12,  3],\n",
              "       [23,  4,  5],\n",
              "       [31, 12,  6]])"
            ]
          },
          "metadata": {},
          "execution_count": 10
        }
      ]
    },
    {
      "cell_type": "code",
      "source": [
        "matrix[1]"
      ],
      "metadata": {
        "colab": {
          "base_uri": "https://localhost:8080/"
        },
        "id": "BY4K68ZjceEL",
        "outputId": "34c8f4af-ebed-41e4-f846-d7b7a3648255"
      },
      "execution_count": null,
      "outputs": [
        {
          "output_type": "execute_result",
          "data": {
            "text/plain": [
              "array([23,  4,  5])"
            ]
          },
          "metadata": {},
          "execution_count": 11
        }
      ]
    },
    {
      "cell_type": "code",
      "source": [
        "matrix[1] = np.array([2,5,6])"
      ],
      "metadata": {
        "id": "Ax_OVoJ9bftx"
      },
      "execution_count": null,
      "outputs": []
    },
    {
      "cell_type": "code",
      "source": [
        "matrix\n"
      ],
      "metadata": {
        "colab": {
          "base_uri": "https://localhost:8080/"
        },
        "id": "RCmkOuzjcwKW",
        "outputId": "8730d0ba-ca89-4d72-f665-e6cb8941e83a"
      },
      "execution_count": null,
      "outputs": [
        {
          "output_type": "execute_result",
          "data": {
            "text/plain": [
              "array([[ 1, 12,  3],\n",
              "       [ 2,  5,  6],\n",
              "       [31, 12,  6]])"
            ]
          },
          "metadata": {},
          "execution_count": 13
        }
      ]
    },
    {
      "cell_type": "code",
      "source": [
        "matrix[2][1] = 10"
      ],
      "metadata": {
        "id": "oG00avoOcxV4"
      },
      "execution_count": null,
      "outputs": []
    },
    {
      "cell_type": "code",
      "source": [
        "matrix"
      ],
      "metadata": {
        "colab": {
          "base_uri": "https://localhost:8080/"
        },
        "id": "CxwkgiCgdAD2",
        "outputId": "7395902b-6ea2-47a0-a121-ddd5f43edccb"
      },
      "execution_count": null,
      "outputs": [
        {
          "output_type": "execute_result",
          "data": {
            "text/plain": [
              "array([[ 1, 12,  3],\n",
              "       [ 2,  5,  6],\n",
              "       [31, 10,  6]])"
            ]
          },
          "metadata": {},
          "execution_count": 15
        }
      ]
    },
    {
      "cell_type": "code",
      "source": [
        "matrix[2,1]=200"
      ],
      "metadata": {
        "id": "ClcZMf2DdA-t"
      },
      "execution_count": null,
      "outputs": []
    },
    {
      "cell_type": "code",
      "source": [
        "matrix"
      ],
      "metadata": {
        "colab": {
          "base_uri": "https://localhost:8080/"
        },
        "id": "QJY-g0YVdVnm",
        "outputId": "7240c6e3-f85e-4c94-9408-e8f5a27a9439"
      },
      "execution_count": null,
      "outputs": [
        {
          "output_type": "execute_result",
          "data": {
            "text/plain": [
              "array([[  1,  12,   3],\n",
              "       [  2,   5,   6],\n",
              "       [ 31, 200,   6]])"
            ]
          },
          "metadata": {},
          "execution_count": 17
        }
      ]
    },
    {
      "cell_type": "code",
      "source": [
        "matrix[1:]"
      ],
      "metadata": {
        "colab": {
          "base_uri": "https://localhost:8080/"
        },
        "id": "75IqWHU7dWjW",
        "outputId": "647bdb85-f768-4940-ea44-b272e45328de"
      },
      "execution_count": null,
      "outputs": [
        {
          "output_type": "execute_result",
          "data": {
            "text/plain": [
              "array([[  2,   5,   6],\n",
              "       [ 31, 200,   6]])"
            ]
          },
          "metadata": {},
          "execution_count": 18
        }
      ]
    },
    {
      "cell_type": "code",
      "source": [
        "matrix[:,2]"
      ],
      "metadata": {
        "colab": {
          "base_uri": "https://localhost:8080/"
        },
        "id": "xV5Wbw-CdwZY",
        "outputId": "0754fab8-8125-4269-ef7d-b12147c7be8c"
      },
      "execution_count": null,
      "outputs": [
        {
          "output_type": "execute_result",
          "data": {
            "text/plain": [
              "array([3, 6, 6])"
            ]
          },
          "metadata": {},
          "execution_count": 19
        }
      ]
    },
    {
      "cell_type": "code",
      "source": [
        "matrix[:,1]#:, =>take all the rows"
      ],
      "metadata": {
        "colab": {
          "base_uri": "https://localhost:8080/"
        },
        "id": "366KEZLNdqyc",
        "outputId": "7c6aed90-7819-4581-e728-29d6d79c6d7a"
      },
      "execution_count": null,
      "outputs": [
        {
          "output_type": "execute_result",
          "data": {
            "text/plain": [
              "array([ 12,   5, 200])"
            ]
          },
          "metadata": {},
          "execution_count": 20
        }
      ]
    },
    {
      "cell_type": "code",
      "source": [
        "my_matrix = np.array([[1, 4, 5], [10, 13, 9], [10, 8, 5]])\n",
        "my_matrix"
      ],
      "metadata": {
        "colab": {
          "base_uri": "https://localhost:8080/"
        },
        "id": "R023sWx5dp32",
        "outputId": "d5c98b95-9750-4dd5-de1a-93bfb6047ddd"
      },
      "execution_count": null,
      "outputs": [
        {
          "output_type": "execute_result",
          "data": {
            "text/plain": [
              "array([[ 1,  4,  5],\n",
              "       [10, 13,  9],\n",
              "       [10,  8,  5]])"
            ]
          },
          "metadata": {},
          "execution_count": 21
        }
      ]
    },
    {
      "cell_type": "code",
      "source": [
        "# Find first column\n",
        "first_column = my_matrix[:,0]\n",
        "first_column"
      ],
      "metadata": {
        "colab": {
          "base_uri": "https://localhost:8080/"
        },
        "id": "1rWK4bQDbZsC",
        "outputId": "30f60ecf-c6ae-437e-e06c-4221ff402534"
      },
      "execution_count": null,
      "outputs": [
        {
          "output_type": "execute_result",
          "data": {
            "text/plain": [
              "array([ 1, 10, 10])"
            ]
          },
          "metadata": {},
          "execution_count": 22
        }
      ]
    },
    {
      "cell_type": "code",
      "source": [
        "# Find third row\n",
        "third_row = my_matrix[2:3]\n",
        "third_row"
      ],
      "metadata": {
        "colab": {
          "base_uri": "https://localhost:8080/"
        },
        "id": "jCdM4OvShDlR",
        "outputId": "575e248e-9597-4a85-9eda-ec15dacf7092"
      },
      "execution_count": null,
      "outputs": [
        {
          "output_type": "execute_result",
          "data": {
            "text/plain": [
              "array([[10,  8,  5]])"
            ]
          },
          "metadata": {},
          "execution_count": 23
        }
      ]
    },
    {
      "cell_type": "markdown",
      "source": [
        "## Attributes"
      ],
      "metadata": {
        "id": "yDEqfajAiIdo"
      }
    },
    {
      "cell_type": "code",
      "source": [
        "matrix.ndim, vector.ndim"
      ],
      "metadata": {
        "colab": {
          "base_uri": "https://localhost:8080/"
        },
        "id": "UgdKkgNShImC",
        "outputId": "8d9a40c8-d595-449d-f07d-b2f292bfb921"
      },
      "execution_count": null,
      "outputs": [
        {
          "output_type": "execute_result",
          "data": {
            "text/plain": [
              "(2, 1)"
            ]
          },
          "metadata": {},
          "execution_count": 24
        }
      ]
    },
    {
      "cell_type": "code",
      "source": [
        "matrix.dtype, vector.dtype"
      ],
      "metadata": {
        "colab": {
          "base_uri": "https://localhost:8080/"
        },
        "id": "2z0RK5xligLl",
        "outputId": "cf82d972-112e-445e-a2a3-206abf11798c"
      },
      "execution_count": null,
      "outputs": [
        {
          "output_type": "execute_result",
          "data": {
            "text/plain": [
              "(dtype('int64'), dtype('int64'))"
            ]
          },
          "metadata": {},
          "execution_count": 25
        }
      ]
    },
    {
      "cell_type": "code",
      "source": [
        "matrix.size, vector.size"
      ],
      "metadata": {
        "colab": {
          "base_uri": "https://localhost:8080/"
        },
        "id": "cjs1lXYJikYZ",
        "outputId": "3f58daf4-6621-42ff-f894-cf516cfd9418"
      },
      "execution_count": null,
      "outputs": [
        {
          "output_type": "execute_result",
          "data": {
            "text/plain": [
              "(9, 5)"
            ]
          },
          "metadata": {},
          "execution_count": 26
        }
      ]
    },
    {
      "cell_type": "code",
      "source": [
        "matrix.shape, vector.shape"
      ],
      "metadata": {
        "colab": {
          "base_uri": "https://localhost:8080/"
        },
        "id": "k4cAOf3zitQQ",
        "outputId": "21e569b4-db31-449f-e7a6-b3b39c0b9003"
      },
      "execution_count": null,
      "outputs": [
        {
          "output_type": "execute_result",
          "data": {
            "text/plain": [
              "((3, 3), (5,))"
            ]
          },
          "metadata": {},
          "execution_count": 27
        }
      ]
    },
    {
      "cell_type": "code",
      "source": [
        "matrix.shape[0]\n",
        "# matrix.shape[0] = 1 => error /cannot be asigned because it is a triple "
      ],
      "metadata": {
        "colab": {
          "base_uri": "https://localhost:8080/"
        },
        "id": "mqrVOOTDi1rA",
        "outputId": "3942f34c-4ffa-4032-9074-6ebb4c7bf6de"
      },
      "execution_count": null,
      "outputs": [
        {
          "output_type": "execute_result",
          "data": {
            "text/plain": [
              "3"
            ]
          },
          "metadata": {},
          "execution_count": 28
        }
      ]
    },
    {
      "cell_type": "code",
      "source": [
        "row_vec = vector[np.newaxis, :]\n",
        "row_vec"
      ],
      "metadata": {
        "colab": {
          "base_uri": "https://localhost:8080/"
        },
        "id": "iuQuJMwliilp",
        "outputId": "d39979f5-6620-49fb-a098-b2e007c7b98e"
      },
      "execution_count": null,
      "outputs": [
        {
          "output_type": "execute_result",
          "data": {
            "text/plain": [
              "array([[0, 1, 2, 3, 4]])"
            ]
          },
          "metadata": {},
          "execution_count": 29
        }
      ]
    },
    {
      "cell_type": "code",
      "source": [
        "row_vec.shape"
      ],
      "metadata": {
        "colab": {
          "base_uri": "https://localhost:8080/"
        },
        "id": "uvsAVcdIiYzR",
        "outputId": "cef7684e-d3bc-4254-a171-d9afe567290a"
      },
      "execution_count": null,
      "outputs": [
        {
          "output_type": "execute_result",
          "data": {
            "text/plain": [
              "(1, 5)"
            ]
          },
          "metadata": {},
          "execution_count": 30
        }
      ]
    },
    {
      "cell_type": "code",
      "source": [
        "col_vec = vector[ :, np.newaxis]\n",
        "col_vec"
      ],
      "metadata": {
        "colab": {
          "base_uri": "https://localhost:8080/"
        },
        "id": "32e9dJN0jw2d",
        "outputId": "c48efbea-1d7e-4565-93ac-9bbaaf6a483c"
      },
      "execution_count": null,
      "outputs": [
        {
          "output_type": "execute_result",
          "data": {
            "text/plain": [
              "array([[0],\n",
              "       [1],\n",
              "       [2],\n",
              "       [3],\n",
              "       [4]])"
            ]
          },
          "metadata": {},
          "execution_count": 31
        }
      ]
    },
    {
      "cell_type": "code",
      "source": [
        "col_vec[:,0]"
      ],
      "metadata": {
        "colab": {
          "base_uri": "https://localhost:8080/"
        },
        "id": "ebrCrDhlj5Ei",
        "outputId": "02c818ed-dd27-4650-c420-c68f7cba16d5"
      },
      "execution_count": null,
      "outputs": [
        {
          "output_type": "execute_result",
          "data": {
            "text/plain": [
              "array([0, 1, 2, 3, 4])"
            ]
          },
          "metadata": {},
          "execution_count": 32
        }
      ]
    },
    {
      "cell_type": "code",
      "source": [
        "row_vec[0]"
      ],
      "metadata": {
        "colab": {
          "base_uri": "https://localhost:8080/"
        },
        "id": "Bcp0beMmj5SH",
        "outputId": "4cba3c10-3cf3-4ce2-dd06-a842e99cdf1b"
      },
      "execution_count": null,
      "outputs": [
        {
          "output_type": "execute_result",
          "data": {
            "text/plain": [
              "array([0, 1, 2, 3, 4])"
            ]
          },
          "metadata": {},
          "execution_count": 33
        }
      ]
    },
    {
      "cell_type": "markdown",
      "source": [
        "## Changing the shape"
      ],
      "metadata": {
        "id": "ftSg3W8-khAM"
      }
    },
    {
      "cell_type": "code",
      "source": [
        " #create the matrix containing all the numbers from one to 100/ t in a 10 by 10 grid\n",
        " vector = np.arange(1, 101) \n",
        " vector"
      ],
      "metadata": {
        "colab": {
          "base_uri": "https://localhost:8080/"
        },
        "id": "V3PQj4FOkjwB",
        "outputId": "e945723e-a1a2-40b2-f066-d3488bc600c8"
      },
      "execution_count": null,
      "outputs": [
        {
          "output_type": "execute_result",
          "data": {
            "text/plain": [
              "array([  1,   2,   3,   4,   5,   6,   7,   8,   9,  10,  11,  12,  13,\n",
              "        14,  15,  16,  17,  18,  19,  20,  21,  22,  23,  24,  25,  26,\n",
              "        27,  28,  29,  30,  31,  32,  33,  34,  35,  36,  37,  38,  39,\n",
              "        40,  41,  42,  43,  44,  45,  46,  47,  48,  49,  50,  51,  52,\n",
              "        53,  54,  55,  56,  57,  58,  59,  60,  61,  62,  63,  64,  65,\n",
              "        66,  67,  68,  69,  70,  71,  72,  73,  74,  75,  76,  77,  78,\n",
              "        79,  80,  81,  82,  83,  84,  85,  86,  87,  88,  89,  90,  91,\n",
              "        92,  93,  94,  95,  96,  97,  98,  99, 100])"
            ]
          },
          "metadata": {},
          "execution_count": 34
        }
      ]
    },
    {
      "cell_type": "code",
      "source": [
        "matrix = vector.reshape(10,10)\n",
        "matrix"
      ],
      "metadata": {
        "colab": {
          "base_uri": "https://localhost:8080/"
        },
        "id": "0DWEKW_7j5oH",
        "outputId": "93ac6ac1-c858-4026-99cc-e097c34e65bf"
      },
      "execution_count": null,
      "outputs": [
        {
          "output_type": "execute_result",
          "data": {
            "text/plain": [
              "array([[  1,   2,   3,   4,   5,   6,   7,   8,   9,  10],\n",
              "       [ 11,  12,  13,  14,  15,  16,  17,  18,  19,  20],\n",
              "       [ 21,  22,  23,  24,  25,  26,  27,  28,  29,  30],\n",
              "       [ 31,  32,  33,  34,  35,  36,  37,  38,  39,  40],\n",
              "       [ 41,  42,  43,  44,  45,  46,  47,  48,  49,  50],\n",
              "       [ 51,  52,  53,  54,  55,  56,  57,  58,  59,  60],\n",
              "       [ 61,  62,  63,  64,  65,  66,  67,  68,  69,  70],\n",
              "       [ 71,  72,  73,  74,  75,  76,  77,  78,  79,  80],\n",
              "       [ 81,  82,  83,  84,  85,  86,  87,  88,  89,  90],\n",
              "       [ 91,  92,  93,  94,  95,  96,  97,  98,  99, 100]])"
            ]
          },
          "metadata": {},
          "execution_count": 35
        }
      ]
    },
    {
      "cell_type": "code",
      "source": [
        "matrix.reshape(100)"
      ],
      "metadata": {
        "colab": {
          "base_uri": "https://localhost:8080/"
        },
        "id": "jsjWpF-Fj5zd",
        "outputId": "a3256b1f-7a65-4129-d7f5-a8ead18c2995"
      },
      "execution_count": null,
      "outputs": [
        {
          "output_type": "execute_result",
          "data": {
            "text/plain": [
              "array([  1,   2,   3,   4,   5,   6,   7,   8,   9,  10,  11,  12,  13,\n",
              "        14,  15,  16,  17,  18,  19,  20,  21,  22,  23,  24,  25,  26,\n",
              "        27,  28,  29,  30,  31,  32,  33,  34,  35,  36,  37,  38,  39,\n",
              "        40,  41,  42,  43,  44,  45,  46,  47,  48,  49,  50,  51,  52,\n",
              "        53,  54,  55,  56,  57,  58,  59,  60,  61,  62,  63,  64,  65,\n",
              "        66,  67,  68,  69,  70,  71,  72,  73,  74,  75,  76,  77,  78,\n",
              "        79,  80,  81,  82,  83,  84,  85,  86,  87,  88,  89,  90,  91,\n",
              "        92,  93,  94,  95,  96,  97,  98,  99, 100])"
            ]
          },
          "metadata": {},
          "execution_count": 36
        }
      ]
    },
    {
      "cell_type": "code",
      "source": [
        "#it is a view and not a new matrix\n",
        "matrix[0,0] = 1000\n",
        "vector [0]"
      ],
      "metadata": {
        "colab": {
          "base_uri": "https://localhost:8080/"
        },
        "id": "xWEGVKuCj58x",
        "outputId": "57c69fc6-632f-4ea2-9c29-1792f3a0eb0d"
      },
      "execution_count": null,
      "outputs": [
        {
          "output_type": "execute_result",
          "data": {
            "text/plain": [
              "1000"
            ]
          },
          "metadata": {},
          "execution_count": 37
        }
      ]
    },
    {
      "cell_type": "code",
      "source": [
        "matrix.reshape(50,2), matrix.reshape(2,50)"
      ],
      "metadata": {
        "colab": {
          "base_uri": "https://localhost:8080/"
        },
        "id": "QvJ_a-VdmG6H",
        "outputId": "36de7dfc-bf31-47cc-a7a4-89008dacc0c1"
      },
      "execution_count": null,
      "outputs": [
        {
          "output_type": "execute_result",
          "data": {
            "text/plain": [
              "(array([[1000,    2],\n",
              "        [   3,    4],\n",
              "        [   5,    6],\n",
              "        [   7,    8],\n",
              "        [   9,   10],\n",
              "        [  11,   12],\n",
              "        [  13,   14],\n",
              "        [  15,   16],\n",
              "        [  17,   18],\n",
              "        [  19,   20],\n",
              "        [  21,   22],\n",
              "        [  23,   24],\n",
              "        [  25,   26],\n",
              "        [  27,   28],\n",
              "        [  29,   30],\n",
              "        [  31,   32],\n",
              "        [  33,   34],\n",
              "        [  35,   36],\n",
              "        [  37,   38],\n",
              "        [  39,   40],\n",
              "        [  41,   42],\n",
              "        [  43,   44],\n",
              "        [  45,   46],\n",
              "        [  47,   48],\n",
              "        [  49,   50],\n",
              "        [  51,   52],\n",
              "        [  53,   54],\n",
              "        [  55,   56],\n",
              "        [  57,   58],\n",
              "        [  59,   60],\n",
              "        [  61,   62],\n",
              "        [  63,   64],\n",
              "        [  65,   66],\n",
              "        [  67,   68],\n",
              "        [  69,   70],\n",
              "        [  71,   72],\n",
              "        [  73,   74],\n",
              "        [  75,   76],\n",
              "        [  77,   78],\n",
              "        [  79,   80],\n",
              "        [  81,   82],\n",
              "        [  83,   84],\n",
              "        [  85,   86],\n",
              "        [  87,   88],\n",
              "        [  89,   90],\n",
              "        [  91,   92],\n",
              "        [  93,   94],\n",
              "        [  95,   96],\n",
              "        [  97,   98],\n",
              "        [  99,  100]]),\n",
              " array([[1000,    2,    3,    4,    5,    6,    7,    8,    9,   10,   11,\n",
              "           12,   13,   14,   15,   16,   17,   18,   19,   20,   21,   22,\n",
              "           23,   24,   25,   26,   27,   28,   29,   30,   31,   32,   33,\n",
              "           34,   35,   36,   37,   38,   39,   40,   41,   42,   43,   44,\n",
              "           45,   46,   47,   48,   49,   50],\n",
              "        [  51,   52,   53,   54,   55,   56,   57,   58,   59,   60,   61,\n",
              "           62,   63,   64,   65,   66,   67,   68,   69,   70,   71,   72,\n",
              "           73,   74,   75,   76,   77,   78,   79,   80,   81,   82,   83,\n",
              "           84,   85,   86,   87,   88,   89,   90,   91,   92,   93,   94,\n",
              "           95,   96,   97,   98,   99,  100]]))"
            ]
          },
          "metadata": {},
          "execution_count": 38
        }
      ]
    },
    {
      "cell_type": "code",
      "source": [
        "matrix.reshape(10,-1)"
      ],
      "metadata": {
        "colab": {
          "base_uri": "https://localhost:8080/"
        },
        "id": "I15dmodAmHHB",
        "outputId": "9f3392fb-56bd-4ec5-b348-6f7f0bbf0356"
      },
      "execution_count": null,
      "outputs": [
        {
          "output_type": "execute_result",
          "data": {
            "text/plain": [
              "array([[1000,    2,    3,    4,    5,    6,    7,    8,    9,   10],\n",
              "       [  11,   12,   13,   14,   15,   16,   17,   18,   19,   20],\n",
              "       [  21,   22,   23,   24,   25,   26,   27,   28,   29,   30],\n",
              "       [  31,   32,   33,   34,   35,   36,   37,   38,   39,   40],\n",
              "       [  41,   42,   43,   44,   45,   46,   47,   48,   49,   50],\n",
              "       [  51,   52,   53,   54,   55,   56,   57,   58,   59,   60],\n",
              "       [  61,   62,   63,   64,   65,   66,   67,   68,   69,   70],\n",
              "       [  71,   72,   73,   74,   75,   76,   77,   78,   79,   80],\n",
              "       [  81,   82,   83,   84,   85,   86,   87,   88,   89,   90],\n",
              "       [  91,   92,   93,   94,   95,   96,   97,   98,   99,  100]])"
            ]
          },
          "metadata": {},
          "execution_count": 39
        }
      ]
    },
    {
      "cell_type": "code",
      "source": [
        "matrix.reshape(-1)"
      ],
      "metadata": {
        "colab": {
          "base_uri": "https://localhost:8080/"
        },
        "id": "ihva5dKwmHRm",
        "outputId": "eb1b9de1-b873-4cab-c566-8a567240ced6"
      },
      "execution_count": null,
      "outputs": [
        {
          "output_type": "execute_result",
          "data": {
            "text/plain": [
              "array([1000,    2,    3,    4,    5,    6,    7,    8,    9,   10,   11,\n",
              "         12,   13,   14,   15,   16,   17,   18,   19,   20,   21,   22,\n",
              "         23,   24,   25,   26,   27,   28,   29,   30,   31,   32,   33,\n",
              "         34,   35,   36,   37,   38,   39,   40,   41,   42,   43,   44,\n",
              "         45,   46,   47,   48,   49,   50,   51,   52,   53,   54,   55,\n",
              "         56,   57,   58,   59,   60,   61,   62,   63,   64,   65,   66,\n",
              "         67,   68,   69,   70,   71,   72,   73,   74,   75,   76,   77,\n",
              "         78,   79,   80,   81,   82,   83,   84,   85,   86,   87,   88,\n",
              "         89,   90,   91,   92,   93,   94,   95,   96,   97,   98,   99,\n",
              "        100])"
            ]
          },
          "metadata": {},
          "execution_count": 40
        }
      ]
    },
    {
      "cell_type": "code",
      "source": [
        "new_vector = matrix.flatten()# it gives a copy\n",
        "new_vector"
      ],
      "metadata": {
        "colab": {
          "base_uri": "https://localhost:8080/"
        },
        "id": "ODWzWvBnmHYW",
        "outputId": "9ba99b73-5cc2-4c7b-e7f6-991c173c371f"
      },
      "execution_count": null,
      "outputs": [
        {
          "output_type": "execute_result",
          "data": {
            "text/plain": [
              "array([1000,    2,    3,    4,    5,    6,    7,    8,    9,   10,   11,\n",
              "         12,   13,   14,   15,   16,   17,   18,   19,   20,   21,   22,\n",
              "         23,   24,   25,   26,   27,   28,   29,   30,   31,   32,   33,\n",
              "         34,   35,   36,   37,   38,   39,   40,   41,   42,   43,   44,\n",
              "         45,   46,   47,   48,   49,   50,   51,   52,   53,   54,   55,\n",
              "         56,   57,   58,   59,   60,   61,   62,   63,   64,   65,   66,\n",
              "         67,   68,   69,   70,   71,   72,   73,   74,   75,   76,   77,\n",
              "         78,   79,   80,   81,   82,   83,   84,   85,   86,   87,   88,\n",
              "         89,   90,   91,   92,   93,   94,   95,   96,   97,   98,   99,\n",
              "        100])"
            ]
          },
          "metadata": {},
          "execution_count": 41
        }
      ]
    },
    {
      "cell_type": "code",
      "source": [
        "new_vector[0] = 0"
      ],
      "metadata": {
        "id": "QJl6uPW1mHjS"
      },
      "execution_count": null,
      "outputs": []
    },
    {
      "cell_type": "code",
      "source": [
        "matrix"
      ],
      "metadata": {
        "colab": {
          "base_uri": "https://localhost:8080/"
        },
        "id": "KePeoweinCPN",
        "outputId": "6afd71ad-78b3-4438-8dde-26cec2756855"
      },
      "execution_count": null,
      "outputs": [
        {
          "output_type": "execute_result",
          "data": {
            "text/plain": [
              "array([[1000,    2,    3,    4,    5,    6,    7,    8,    9,   10],\n",
              "       [  11,   12,   13,   14,   15,   16,   17,   18,   19,   20],\n",
              "       [  21,   22,   23,   24,   25,   26,   27,   28,   29,   30],\n",
              "       [  31,   32,   33,   34,   35,   36,   37,   38,   39,   40],\n",
              "       [  41,   42,   43,   44,   45,   46,   47,   48,   49,   50],\n",
              "       [  51,   52,   53,   54,   55,   56,   57,   58,   59,   60],\n",
              "       [  61,   62,   63,   64,   65,   66,   67,   68,   69,   70],\n",
              "       [  71,   72,   73,   74,   75,   76,   77,   78,   79,   80],\n",
              "       [  81,   82,   83,   84,   85,   86,   87,   88,   89,   90],\n",
              "       [  91,   92,   93,   94,   95,   96,   97,   98,   99,  100]])"
            ]
          },
          "metadata": {},
          "execution_count": 43
        }
      ]
    },
    {
      "cell_type": "code",
      "source": [
        "np.copy(matrix)"
      ],
      "metadata": {
        "colab": {
          "base_uri": "https://localhost:8080/"
        },
        "id": "Q7HhmgZsncWX",
        "outputId": "f8fee05e-ab3b-4612-b06c-0b69cd9daee4"
      },
      "execution_count": null,
      "outputs": [
        {
          "output_type": "execute_result",
          "data": {
            "text/plain": [
              "array([[1000,    2,    3,    4,    5,    6,    7,    8,    9,   10],\n",
              "       [  11,   12,   13,   14,   15,   16,   17,   18,   19,   20],\n",
              "       [  21,   22,   23,   24,   25,   26,   27,   28,   29,   30],\n",
              "       [  31,   32,   33,   34,   35,   36,   37,   38,   39,   40],\n",
              "       [  41,   42,   43,   44,   45,   46,   47,   48,   49,   50],\n",
              "       [  51,   52,   53,   54,   55,   56,   57,   58,   59,   60],\n",
              "       [  61,   62,   63,   64,   65,   66,   67,   68,   69,   70],\n",
              "       [  71,   72,   73,   74,   75,   76,   77,   78,   79,   80],\n",
              "       [  81,   82,   83,   84,   85,   86,   87,   88,   89,   90],\n",
              "       [  91,   92,   93,   94,   95,   96,   97,   98,   99,  100]])"
            ]
          },
          "metadata": {},
          "execution_count": 44
        }
      ]
    },
    {
      "cell_type": "markdown",
      "source": [
        "## Specifiying axis in functions"
      ],
      "metadata": {
        "id": "BSdwle_fnv3Q"
      }
    },
    {
      "cell_type": "code",
      "source": [
        "#Create a matrix with only zeros values\n",
        "np.zeros((2,3))"
      ],
      "metadata": {
        "colab": {
          "base_uri": "https://localhost:8080/"
        },
        "id": "SIMYLsO6n6Do",
        "outputId": "81873318-6342-4659-c60d-4348c6c256c8"
      },
      "execution_count": null,
      "outputs": [
        {
          "output_type": "execute_result",
          "data": {
            "text/plain": [
              "array([[0., 0., 0.],\n",
              "       [0., 0., 0.]])"
            ]
          },
          "metadata": {},
          "execution_count": 45
        }
      ]
    },
    {
      "cell_type": "code",
      "source": [
        "#Create a vector with only zeros values\n",
        "np.zeros(10)"
      ],
      "metadata": {
        "colab": {
          "base_uri": "https://localhost:8080/"
        },
        "id": "R_35XXzXoHpN",
        "outputId": "6cbfa234-c20a-4804-a238-1317852a9e6b"
      },
      "execution_count": null,
      "outputs": [
        {
          "output_type": "execute_result",
          "data": {
            "text/plain": [
              "array([0., 0., 0., 0., 0., 0., 0., 0., 0., 0.])"
            ]
          },
          "metadata": {},
          "execution_count": 46
        }
      ]
    },
    {
      "cell_type": "code",
      "source": [
        "np.ones((3,4))"
      ],
      "metadata": {
        "colab": {
          "base_uri": "https://localhost:8080/"
        },
        "id": "z1Y5qltuoPxB",
        "outputId": "a38dedf2-11a2-4be1-fd73-f10b4e372ac1"
      },
      "execution_count": null,
      "outputs": [
        {
          "output_type": "execute_result",
          "data": {
            "text/plain": [
              "array([[1., 1., 1., 1.],\n",
              "       [1., 1., 1., 1.],\n",
              "       [1., 1., 1., 1.]])"
            ]
          },
          "metadata": {},
          "execution_count": 47
        }
      ]
    },
    {
      "cell_type": "code",
      "source": [
        "np.ones(3)"
      ],
      "metadata": {
        "colab": {
          "base_uri": "https://localhost:8080/"
        },
        "id": "PQBPgslsobhj",
        "outputId": "24ab5562-3981-4fb5-d17e-32af812ac93c"
      },
      "execution_count": null,
      "outputs": [
        {
          "output_type": "execute_result",
          "data": {
            "text/plain": [
              "array([1., 1., 1.])"
            ]
          },
          "metadata": {},
          "execution_count": 48
        }
      ]
    },
    {
      "cell_type": "code",
      "source": [
        "3*np.ones(3)"
      ],
      "metadata": {
        "colab": {
          "base_uri": "https://localhost:8080/"
        },
        "id": "IGxkw7oaog1i",
        "outputId": "6e9cd5f3-25c8-4e07-8300-eb7f052eb041"
      },
      "execution_count": null,
      "outputs": [
        {
          "output_type": "execute_result",
          "data": {
            "text/plain": [
              "array([3., 3., 3.])"
            ]
          },
          "metadata": {},
          "execution_count": 49
        }
      ]
    },
    {
      "cell_type": "code",
      "source": [
        "#Identity matrix\n",
        "\n",
        "np.identity(3)\n"
      ],
      "metadata": {
        "colab": {
          "base_uri": "https://localhost:8080/"
        },
        "id": "9tB29RPAomAo",
        "outputId": "48e735f6-1a54-4129-ce3c-90d356f5db03"
      },
      "execution_count": null,
      "outputs": [
        {
          "output_type": "execute_result",
          "data": {
            "text/plain": [
              "array([[1., 0., 0.],\n",
              "       [0., 1., 0.],\n",
              "       [0., 0., 1.]])"
            ]
          },
          "metadata": {},
          "execution_count": 50
        }
      ]
    },
    {
      "cell_type": "code",
      "source": [
        "np.eye(4)"
      ],
      "metadata": {
        "colab": {
          "base_uri": "https://localhost:8080/"
        },
        "id": "3pdxpkaFoWhh",
        "outputId": "20764cb4-805a-4745-a18f-037cd0d89db3"
      },
      "execution_count": null,
      "outputs": [
        {
          "output_type": "execute_result",
          "data": {
            "text/plain": [
              "array([[1., 0., 0., 0.],\n",
              "       [0., 1., 0., 0.],\n",
              "       [0., 0., 1., 0.],\n",
              "       [0., 0., 0., 1.]])"
            ]
          },
          "metadata": {},
          "execution_count": 51
        }
      ]
    },
    {
      "cell_type": "code",
      "source": [
        "matrix = np.array([[10,2,43],[11,0,33],[0,20,3]])\n",
        "matrix"
      ],
      "metadata": {
        "colab": {
          "base_uri": "https://localhost:8080/"
        },
        "id": "ImkMEEhHpEQQ",
        "outputId": "6af6a542-ecd8-4ff8-8a69-5e4a8c385a6a"
      },
      "execution_count": null,
      "outputs": [
        {
          "output_type": "execute_result",
          "data": {
            "text/plain": [
              "array([[10,  2, 43],\n",
              "       [11,  0, 33],\n",
              "       [ 0, 20,  3]])"
            ]
          },
          "metadata": {},
          "execution_count": 52
        }
      ]
    },
    {
      "cell_type": "code",
      "source": [
        " matrix.sum()"
      ],
      "metadata": {
        "colab": {
          "base_uri": "https://localhost:8080/"
        },
        "id": "3pJHZNcRoMeO",
        "outputId": "3628e50c-77a6-41f4-9a63-35fd057cb89f"
      },
      "execution_count": null,
      "outputs": [
        {
          "output_type": "execute_result",
          "data": {
            "text/plain": [
              "122"
            ]
          },
          "metadata": {},
          "execution_count": 53
        }
      ]
    },
    {
      "cell_type": "code",
      "source": [
        "matrix.sum(axis=0), matrix.sum(axis=1)"
      ],
      "metadata": {
        "colab": {
          "base_uri": "https://localhost:8080/"
        },
        "id": "4fioZR63pkfr",
        "outputId": "3ef37cfb-f40f-4555-8197-d9465d6cbe0f"
      },
      "execution_count": null,
      "outputs": [
        {
          "output_type": "execute_result",
          "data": {
            "text/plain": [
              "(array([21, 22, 79]), array([55, 44, 23]))"
            ]
          },
          "metadata": {},
          "execution_count": 54
        }
      ]
    },
    {
      "cell_type": "code",
      "source": [
        "np.around(matrix.mean(axis=1), decimals=2)"
      ],
      "metadata": {
        "colab": {
          "base_uri": "https://localhost:8080/"
        },
        "id": "iC4VDeSypemT",
        "outputId": "63f42d24-097a-4fa0-bdd3-beb6bfe2401b"
      },
      "execution_count": null,
      "outputs": [
        {
          "output_type": "execute_result",
          "data": {
            "text/plain": [
              "array([18.33, 14.67,  7.67])"
            ]
          },
          "metadata": {},
          "execution_count": 55
        }
      ]
    },
    {
      "cell_type": "code",
      "source": [
        "matrix.max(axis=0)"
      ],
      "metadata": {
        "colab": {
          "base_uri": "https://localhost:8080/"
        },
        "id": "lAPvvqQeoF7D",
        "outputId": "40d37e96-0238-4fbc-faa2-b87c2fc59bf0"
      },
      "execution_count": null,
      "outputs": [
        {
          "output_type": "execute_result",
          "data": {
            "text/plain": [
              "array([11, 20, 43])"
            ]
          },
          "metadata": {},
          "execution_count": 56
        }
      ]
    },
    {
      "cell_type": "markdown",
      "source": [
        "## Boolean vectors & matrices"
      ],
      "metadata": {
        "id": "ZPWJgczPsEcS"
      }
    },
    {
      "cell_type": "code",
      "source": [
        "vector = np.array([ True, False, False,  True,  True, True])"
      ],
      "metadata": {
        "id": "6d1SUaxjs0AO"
      },
      "execution_count": null,
      "outputs": []
    },
    {
      "cell_type": "code",
      "source": [
        "vector.dtype"
      ],
      "metadata": {
        "colab": {
          "base_uri": "https://localhost:8080/"
        },
        "id": "DZ6W-5AYsatt",
        "outputId": "16847ff7-57aa-4f1e-c4ef-799d0e510124"
      },
      "execution_count": null,
      "outputs": [
        {
          "output_type": "execute_result",
          "data": {
            "text/plain": [
              "dtype('bool')"
            ]
          },
          "metadata": {},
          "execution_count": 58
        }
      ]
    },
    {
      "cell_type": "code",
      "source": [
        "matrix1= vector[np.newaxis, :]\n",
        "matrix1.dtype , matrix1"
      ],
      "metadata": {
        "colab": {
          "base_uri": "https://localhost:8080/"
        },
        "id": "EOJ-tuXQscAk",
        "outputId": "82f9b117-42dd-4ca3-b52a-0f5f1e7bada5"
      },
      "execution_count": null,
      "outputs": [
        {
          "output_type": "execute_result",
          "data": {
            "text/plain": [
              "(dtype('bool'), array([[ True, False, False,  True,  True,  True]]))"
            ]
          },
          "metadata": {},
          "execution_count": 59
        }
      ]
    },
    {
      "cell_type": "code",
      "source": [
        "matrix.reshape(-1, 2)\n",
        "matrix"
      ],
      "metadata": {
        "colab": {
          "base_uri": "https://localhost:8080/"
        },
        "id": "co3padecsqnX",
        "outputId": "1e5064b6-b070-4ea1-ce62-802c6e9c2597"
      },
      "execution_count": null,
      "outputs": [
        {
          "output_type": "execute_result",
          "data": {
            "text/plain": [
              "array([[ True, False, False,  True,  True,  True]])"
            ]
          },
          "metadata": {},
          "execution_count": 60
        }
      ]
    },
    {
      "cell_type": "code",
      "source": [
        "import numpy as np\n",
        "matrix = np.arange(21).reshape(3,-1)\n",
        "matrix "
      ],
      "metadata": {
        "colab": {
          "base_uri": "https://localhost:8080/"
        },
        "id": "H7A2LWl6sxwl",
        "outputId": "d9f0969f-1ac2-4411-b697-d4ad13ad0a69"
      },
      "execution_count": null,
      "outputs": [
        {
          "output_type": "execute_result",
          "data": {
            "text/plain": [
              "array([[ 0,  1,  2,  3,  4,  5,  6],\n",
              "       [ 7,  8,  9, 10, 11, 12, 13],\n",
              "       [14, 15, 16, 17, 18, 19, 20]])"
            ]
          },
          "metadata": {},
          "execution_count": 3
        }
      ]
    },
    {
      "cell_type": "code",
      "source": [
        "matrix < 5"
      ],
      "metadata": {
        "colab": {
          "base_uri": "https://localhost:8080/"
        },
        "id": "wyiJMCBQtbf0",
        "outputId": "e8388ee5-12b8-404d-f0ff-3071ca2fa71f"
      },
      "execution_count": null,
      "outputs": [
        {
          "output_type": "execute_result",
          "data": {
            "text/plain": [
              "array([[ True,  True,  True,  True,  True, False, False],\n",
              "       [False, False, False, False, False, False, False],\n",
              "       [False, False, False, False, False, False, False]])"
            ]
          },
          "metadata": {},
          "execution_count": 4
        }
      ]
    },
    {
      "cell_type": "code",
      "source": [
        "bool_matrix = matrix < 5"
      ],
      "metadata": {
        "id": "HTuuYz8ht2MA"
      },
      "execution_count": null,
      "outputs": []
    },
    {
      "cell_type": "code",
      "source": [
        "bool_matrix.all()"
      ],
      "metadata": {
        "colab": {
          "base_uri": "https://localhost:8080/"
        },
        "id": "IXfzEsnCuFnd",
        "outputId": "d2de2d21-4ca6-4de5-f718-dc43a24a9611"
      },
      "execution_count": null,
      "outputs": [
        {
          "output_type": "execute_result",
          "data": {
            "text/plain": [
              "False"
            ]
          },
          "metadata": {},
          "execution_count": 7
        }
      ]
    },
    {
      "cell_type": "code",
      "source": [
        "bool_matrix.any()"
      ],
      "metadata": {
        "colab": {
          "base_uri": "https://localhost:8080/"
        },
        "id": "DnJWRA41uKI5",
        "outputId": "30070767-6841-4c50-f3e1-0150a45d5f49"
      },
      "execution_count": null,
      "outputs": [
        {
          "output_type": "execute_result",
          "data": {
            "text/plain": [
              "True"
            ]
          },
          "metadata": {},
          "execution_count": 8
        }
      ]
    },
    {
      "cell_type": "code",
      "source": [
        "bool_matrix.all(axis=1)"
      ],
      "metadata": {
        "colab": {
          "base_uri": "https://localhost:8080/"
        },
        "id": "5xPb5Eb7oB6b",
        "outputId": "8cbf9b38-fb7e-4a40-b594-5f2b1678de15"
      },
      "execution_count": null,
      "outputs": [
        {
          "output_type": "execute_result",
          "data": {
            "text/plain": [
              "array([False, False, False])"
            ]
          },
          "metadata": {},
          "execution_count": 10
        }
      ]
    },
    {
      "cell_type": "code",
      "source": [
        "bool_matrix.any(axis=1)"
      ],
      "metadata": {
        "colab": {
          "base_uri": "https://localhost:8080/"
        },
        "id": "2gmrkivpn0aF",
        "outputId": "ba384752-7d2a-477d-c720-063f275cef73"
      },
      "execution_count": null,
      "outputs": [
        {
          "output_type": "execute_result",
          "data": {
            "text/plain": [
              "array([ True, False, False])"
            ]
          },
          "metadata": {},
          "execution_count": 11
        }
      ]
    },
    {
      "cell_type": "code",
      "source": [
        "# Get the nan value\n",
        "np.nan"
      ],
      "metadata": {
        "colab": {
          "base_uri": "https://localhost:8080/"
        },
        "id": "MYK1w4e8ncig",
        "outputId": "8c90aa13-67af-4627-c87a-c75216aa8025"
      },
      "execution_count": null,
      "outputs": [
        {
          "output_type": "execute_result",
          "data": {
            "text/plain": [
              "nan"
            ]
          },
          "metadata": {},
          "execution_count": 12
        }
      ]
    },
    {
      "cell_type": "code",
      "source": [
        "rain = np.array([[1, 0, np.nan],[3, 2, 1],[np.nan, 2, 3]])\n",
        "rain"
      ],
      "metadata": {
        "colab": {
          "base_uri": "https://localhost:8080/"
        },
        "id": "Tu9a7vbFncr_",
        "outputId": "4d6e638e-ac05-41ca-d639-f31bfd4b9493"
      },
      "execution_count": null,
      "outputs": [
        {
          "output_type": "execute_result",
          "data": {
            "text/plain": [
              "array([[ 1.,  0., nan],\n",
              "       [ 3.,  2.,  1.],\n",
              "       [nan,  2.,  3.]])"
            ]
          },
          "metadata": {},
          "execution_count": 16
        }
      ]
    },
    {
      "cell_type": "code",
      "source": [
        "#Do my datasets contain a nan value\n",
        "np.isnan(rain).any()"
      ],
      "metadata": {
        "colab": {
          "base_uri": "https://localhost:8080/"
        },
        "id": "Ry8xxhzduwRI",
        "outputId": "76d83228-987e-466c-a23d-4edb647996aa"
      },
      "execution_count": null,
      "outputs": [
        {
          "output_type": "execute_result",
          "data": {
            "text/plain": [
              "True"
            ]
          },
          "metadata": {},
          "execution_count": 19
        }
      ]
    },
    {
      "cell_type": "code",
      "source": [
        ""
      ],
      "metadata": {
        "id": "W8Ae8prlvnPN"
      },
      "execution_count": null,
      "outputs": []
    },
    {
      "cell_type": "code",
      "source": [
        ""
      ],
      "metadata": {
        "id": "u9NpCP-HvcDU"
      },
      "execution_count": null,
      "outputs": []
    },
    {
      "cell_type": "code",
      "source": [
        ""
      ],
      "metadata": {
        "id": "P_der70fuyiu"
      },
      "execution_count": null,
      "outputs": []
    }
  ]
}