{
  "nbformat": 4,
  "nbformat_minor": 0,
  "metadata": {
    "colab": {
      "name": "2-universal-fnct-plotting.ipynb",
      "provenance": [],
      "authorship_tag": "ABX9TyOXG6QipHdGf9pTXFh7EpoK",
      "include_colab_link": true
    },
    "kernelspec": {
      "name": "python3",
      "display_name": "Python 3"
    },
    "language_info": {
      "name": "python"
    }
  },
  "cells": [
    {
      "cell_type": "markdown",
      "metadata": {
        "id": "view-in-github",
        "colab_type": "text"
      },
      "source": [
        "<a href=\"https://colab.research.google.com/github/hanene2030/numpy/blob/main/2_universal_fnct_plotting.ipynb\" target=\"_parent\"><img src=\"https://colab.research.google.com/assets/colab-badge.svg\" alt=\"Open In Colab\"/></a>"
      ]
    },
    {
      "cell_type": "markdown",
      "source": [
        "## Universal function\n",
        "A universal function is a function which acts on a vector element by element"
      ],
      "metadata": {
        "id": "_ZAvvKHBIgZ0"
      }
    },
    {
      "cell_type": "code",
      "source": [
        "import numpy as np\n"
      ],
      "metadata": {
        "id": "wW1OdfzZIpmv"
      },
      "execution_count": null,
      "outputs": []
    },
    {
      "cell_type": "code",
      "source": [
        "vector = np.arange(1, 6)\n",
        "vector"
      ],
      "metadata": {
        "colab": {
          "base_uri": "https://localhost:8080/"
        },
        "id": "vAtTkKJYIoEC",
        "outputId": "d59c94ff-0948-4c14-a3bd-99ae95dc27dd"
      },
      "execution_count": null,
      "outputs": [
        {
          "output_type": "execute_result",
          "data": {
            "text/plain": [
              "array([1, 2, 3, 4, 5])"
            ]
          },
          "metadata": {},
          "execution_count": 4
        }
      ]
    },
    {
      "cell_type": "code",
      "source": [
        "  np.exp(vector)"
      ],
      "metadata": {
        "colab": {
          "base_uri": "https://localhost:8080/"
        },
        "id": "KaQpnDhxI4IR",
        "outputId": "b193105a-8de4-4f7c-a563-a04aa7aca041"
      },
      "execution_count": null,
      "outputs": [
        {
          "output_type": "execute_result",
          "data": {
            "text/plain": [
              "array([  2.71828183,   7.3890561 ,  20.08553692,  54.59815003,\n",
              "       148.4131591 ])"
            ]
          },
          "metadata": {},
          "execution_count": 5
        }
      ]
    },
    {
      "cell_type": "code",
      "source": [
        "vector * np.pi"
      ],
      "metadata": {
        "colab": {
          "base_uri": "https://localhost:8080/"
        },
        "id": "Th_mw8ACI8Er",
        "outputId": "402a6759-3451-4ea2-bca2-ac2ae83b9faa"
      },
      "execution_count": null,
      "outputs": [
        {
          "output_type": "execute_result",
          "data": {
            "text/plain": [
              "array([ 3.14159265,  6.28318531,  9.42477796, 12.56637061, 15.70796327])"
            ]
          },
          "metadata": {},
          "execution_count": 6
        }
      ]
    },
    {
      "cell_type": "code",
      "source": [
        "  np.cos(vector * np.pi)"
      ],
      "metadata": {
        "colab": {
          "base_uri": "https://localhost:8080/"
        },
        "id": "NL52basFJCW8",
        "outputId": "8df89118-e076-4d55-9c59-da71248485d3"
      },
      "execution_count": null,
      "outputs": [
        {
          "output_type": "execute_result",
          "data": {
            "text/plain": [
              "array([-1.,  1., -1.,  1., -1.])"
            ]
          },
          "metadata": {},
          "execution_count": 7
        }
      ]
    },
    {
      "cell_type": "code",
      "source": [
        "np.log(np.exp(vector))"
      ],
      "metadata": {
        "colab": {
          "base_uri": "https://localhost:8080/"
        },
        "id": "0sfelsT6I1j_",
        "outputId": "0740c89f-b7e4-4122-f56d-9f134996753e"
      },
      "execution_count": null,
      "outputs": [
        {
          "output_type": "execute_result",
          "data": {
            "text/plain": [
              "array([1., 2., 3., 4., 5.])"
            ]
          },
          "metadata": {},
          "execution_count": 8
        }
      ]
    },
    {
      "cell_type": "code",
      "source": [
        "np.log(np.e * vector)"
      ],
      "metadata": {
        "colab": {
          "base_uri": "https://localhost:8080/"
        },
        "id": "FOG7O3NhJRlj",
        "outputId": "522b8cf9-1375-43b7-e6e3-fbd4de625eab"
      },
      "execution_count": null,
      "outputs": [
        {
          "output_type": "execute_result",
          "data": {
            "text/plain": [
              "array([1.        , 1.69314718, 2.09861229, 2.38629436, 2.60943791])"
            ]
          },
          "metadata": {},
          "execution_count": 9
        }
      ]
    },
    {
      "cell_type": "markdown",
      "source": [
        "## Ploting with matplotlib\n"
      ],
      "metadata": {
        "id": "YJfjHAc9Jogy"
      }
    },
    {
      "cell_type": "code",
      "source": [
        "import matplotlib.pyplot as plt\n",
        "x_values = np.arange(5)\n",
        "y_values = np.sin(x_values)\n",
        "\n",
        "plt.plot(x_values, y_values);"
      ],
      "metadata": {
        "colab": {
          "base_uri": "https://localhost:8080/",
          "height": 265
        },
        "id": "18-RKoPHJsoX",
        "outputId": "eea87fd7-4476-4569-8203-d1c5d5910d7f"
      },
      "execution_count": null,
      "outputs": [
        {
          "output_type": "display_data",
          "data": {
            "text/plain": [
              "<Figure size 432x288 with 1 Axes>"
            ],
            "image/png": "[encoded data removed]"
          },
          "metadata": {
            "needs_background": "light"
          }
        }
      ]
    },
    {
      "cell_type": "markdown",
      "source": [
        "Plot the fnct $ 2\\cos(x)$ 0 and $\\pi$"
      ],
      "metadata": {
        "id": "Vq8Ib6x8KlS8"
      }
    },
    {
      "cell_type": "code",
      "source": [
        "x_axis = np.linspace(0, np.pi, 1000)\n",
        "y_axis = 2*np.cos(x_axis)\n",
        "plt.plot(x_axis, y_axis,  color='green',  linestyle='dashdot')\n",
        "plt.xlabel(\"X values\")\n",
        "plt.ylabel(\"$2*cos(x)$\")\n",
        "plt.title(\"figure xxxx\");"
      ],
      "metadata": {
        "colab": {
          "base_uri": "https://localhost:8080/",
          "height": 295
        },
        "id": "P5BsiPPjKzMD",
        "outputId": "208eec87-cecc-4e7a-e3df-8ccb334b9596"
      },
      "execution_count": null,
      "outputs": [
        {
          "output_type": "display_data",
          "data": {
            "text/plain": [
              "<Figure size 432x288 with 1 Axes>"
            ],
            "image/png": "[encoded data removed]"
          },
          "metadata": {
            "needs_background": "light"
          }
        }
      ]
    },
    {
      "cell_type": "code",
      "source": [
        ""
      ],
      "metadata": {
        "id": "7vdBLtvbIzpu"
      },
      "execution_count": null,
      "outputs": []
    },
    {
      "cell_type": "markdown",
      "source": [
        "## Bar & Scatter plot"
      ],
      "metadata": {
        "id": "XC-62-B5M67U"
      }
    },
    {
      "cell_type": "markdown",
      "source": [
        "### Bar plot"
      ],
      "metadata": {
        "id": "iO8P0TgCO0Vy"
      }
    },
    {
      "cell_type": "code",
      "source": [
        "training = np.array([1,7,2,5,4])\n",
        "num_day = np.arange(1, len(training)+1)\n",
        "plt.bar(num_day , training, edgecolor=\"green\", color=\"white\", linewidth=3, tick_label=[\"M\", \"T\", \"W\", \"T\",\"F\"])\n",
        "plt.xlabel(\"Day\")\n",
        "plt.ylabel(\"training (h)\");\n",
        "\n"
      ],
      "metadata": {
        "colab": {
          "base_uri": "https://localhost:8080/",
          "height": 279
        },
        "id": "ZbE1hgESM-Ob",
        "outputId": "e09c2f1d-377d-459e-8762-0d2e67601975"
      },
      "execution_count": null,
      "outputs": [
        {
          "output_type": "display_data",
          "data": {
            "text/plain": [
              "<Figure size 432x288 with 1 Axes>"
            ],
            "image/png": "[encoded data removed]"
          },
          "metadata": {
            "needs_background": "light"
          }
        }
      ]
    },
    {
      "cell_type": "markdown",
      "source": [
        "### Scatter plot"
      ],
      "metadata": {
        "id": "RZBc-WDXO4O8"
      }
    },
    {
      "cell_type": "code",
      "source": [
        "x_values = np.array([1,2 ,3 ,4 ,6 ,8  ,9])\n",
        "y_values = np.array([2.1,2.2 ,3 ,1 ,3.5 ,1  ,2.6])\n",
        "plt.scatter(x_values, y_values);# This is used a lot if you have some experimental / to see tendencies if it's linear/ quadratic etc/. "
      ],
      "metadata": {
        "colab": {
          "base_uri": "https://localhost:8080/",
          "height": 265
        },
        "id": "9KMEmhuWO6AM",
        "outputId": "198044c1-9607-433a-95f4-8e87f872ada8"
      },
      "execution_count": null,
      "outputs": [
        {
          "output_type": "display_data",
          "data": {
            "text/plain": [
              "<Figure size 432x288 with 1 Axes>"
            ],
            "image/png": "[encoded data removed]"
          },
          "metadata": {
            "needs_background": "light"
          }
        }
      ]
    },
    {
      "cell_type": "code",
      "execution_count": null,
      "metadata": {
        "id": "LDlOPqtzISuu"
      },
      "outputs": [],
      "source": [
        "plt.scatter?"
      ]
    }
  ]
}